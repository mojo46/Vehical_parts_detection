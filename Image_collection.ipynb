{
  "nbformat": 4,
  "nbformat_minor": 0,
  "metadata": {
    "colab": {
      "name": "Image_collection.ipynb",
      "provenance": [],
      "collapsed_sections": [
        "r8R68NfIkwkV"
      ],
      "toc_visible": true,
      "mount_file_id": "1E-DWVrHRvqCbFBBI9gdsBxyfwthuGTJN",
      "authorship_tag": "ABX9TyMopgH5pJ6Fa4cZQVB2lD3z",
      "include_colab_link": true
    },
    "kernelspec": {
      "name": "python3",
      "display_name": "Python 3"
    },
    "accelerator": "GPU"
  },
  "cells": [
    {
      "cell_type": "markdown",
      "metadata": {
        "id": "view-in-github",
        "colab_type": "text"
      },
      "source": [
        "<a href=\"https://colab.research.google.com/github/mojo46/Vehical_parts_detection/blob/master/Image_collection.ipynb\" target=\"_parent\"><img src=\"https://colab.research.google.com/assets/colab-badge.svg\" alt=\"Open In Colab\"/></a>"
      ]
    },
    {
      "cell_type": "markdown",
      "metadata": {
        "id": "jZtYUqSR1HjO"
      },
      "source": [
        "# Google Image search\n",
        "\n",
        "Google image scrapping\n"
      ]
    },
    {
      "cell_type": "code",
      "metadata": {
        "id": "0lwJeihe1U_F"
      },
      "source": [
        "!pip install google_images_search"
      ],
      "execution_count": null,
      "outputs": []
    },
    {
      "cell_type": "code",
      "metadata": {
        "id": "gfOnGe4l7qCv"
      },
      "source": [
        "!rm -rf /content/RenaultKwidImages\n"
      ],
      "execution_count": 7,
      "outputs": []
    },
    {
      "cell_type": "code",
      "metadata": {
        "id": "gndOZt-91TjG"
      },
      "source": [
        "from google_images_search import GoogleImagesSearch\n",
        "\n",
        "GCS_DEVELOPER_KEY = '<Your GCS Dev KEY>'\n",
        "\n",
        "GCS_CX = '<Your GCS CX>'\n",
        "\n",
        "gis = GoogleImagesSearch(GCS_DEVELOPER_KEY,GCS_CX)\n",
        "\n",
        "# gis.search(search_params=_search_params, path_to_dir=download_path, width=500, height=500)\n",
        "\n",
        "# gis.next_page()"
      ],
      "execution_count": 3,
      "outputs": []
    },
    {
      "cell_type": "code",
      "metadata": {
        "id": "pv1yOnv3MXwi"
      },
      "source": [
        "#RenaultKwidImages\n",
        "\n",
        "RenaultKwidImages_download_path = '/content/RenaultKwidImages'\n",
        "\n",
        "colours = [\"Red\", \"Moonlight Silver\",\n",
        "           \"Zanskar Blue\", \"OUTBACK BRONZE\", \"Cool White\"]\n",
        "car_model = [\"KWID STD\", \"KWID RXE\", \"KWID RXL\", \"KWID RXT\", \"KWID 1.0 RXT\", \"KWID 1.0 RXT Opt\", \"KWID Climber 1.0 MT\",\n",
        "             \"KWID Climber 1.0 MT Opt\", \"KWID 1.0 RXT AMT\", \"KWID 1.0 RXT AMT Opt\", \"KWID Climber 1.0 AMT\", \"KWID Climber 1.0 AMT Opt\"]\n",
        "parts_ref=[]\n",
        "\n",
        "for car in car_model:\n",
        "    for clr in colours:\n",
        "        cmb = car + \" \"+clr\n",
        "        parts_ref.append(cmb)\n",
        "\n",
        "# parts_ref = ['Renault Duster']\n",
        "for pf in parts_ref:\n",
        "\n",
        "    _search_params = {\n",
        "        'q': pf,\n",
        "        'num': 50,\n",
        "        'safe': 'off',\n",
        "        'fileType': 'jpg',\n",
        "        'imgType': 'photo',\n",
        "        'imgSize': 'LARGE'\n",
        "    }\n",
        "\n",
        "    try:\n",
        "        gis.search(search_params=_search_params, path_to_dir=RenaultKwidImages_download_path)\n",
        "    except:\n",
        "      continue"
      ],
      "execution_count": 8,
      "outputs": []
    },
    {
      "cell_type": "code",
      "metadata": {
        "id": "k7Xcyh-G2WxF"
      },
      "source": [
        "# number of images in a directory\n",
        "import os, os.path\n",
        "def count_files(path):\n",
        "  DIR = path\n",
        "  print(len([name for name in os.listdir(DIR) if os.path.isfile(os.path.join(DIR, name))]))"
      ],
      "execution_count": 9,
      "outputs": []
    },
    {
      "cell_type": "code",
      "metadata": {
        "id": "J9TeLISULF2k"
      },
      "source": [
        "count_files(RenaultKwidImages_download_path)"
      ],
      "execution_count": null,
      "outputs": []
    },
    {
      "cell_type": "code",
      "metadata": {
        "id": "XZBXrcaZkFjH"
      },
      "source": [
        "gis.next_page()\n",
        "download_path = \"download_path\"\n",
        "for image in gis.results():\n",
        "    image.download(download_path)"
      ],
      "execution_count": null,
      "outputs": []
    }
  ]
}