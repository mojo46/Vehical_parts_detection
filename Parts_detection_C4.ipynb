{
  "nbformat": 4,
  "nbformat_minor": 0,
  "metadata": {
    "colab": {
      "name": "Parts_detection_C4.ipynb",
      "provenance": [],
      "include_colab_link": true
    },
    "kernelspec": {
      "name": "python3",
      "display_name": "Python 3"
    },
    "accelerator": "GPU"
  },
  "cells": [
    {
      "cell_type": "markdown",
      "metadata": {
        "id": "view-in-github",
        "colab_type": "text"
      },
      "source": [
        "<a href=\"https://colab.research.google.com/github/mojo46/Vehical_parts_detection/blob/master/Parts_detection_C4.ipynb\" target=\"_parent\"><img src=\"https://colab.research.google.com/assets/colab-badge.svg\" alt=\"Open In Colab\"/></a>"
      ]
    },
    {
      "cell_type": "markdown",
      "metadata": {
        "id": "QXjtmVJTy4K3",
        "colab_type": "text"
      },
      "source": [
        "Clone Darknet"
      ]
    },
    {
      "cell_type": "code",
      "metadata": {
        "id": "dj25BdjBPHkT",
        "colab_type": "code",
        "colab": {}
      },
      "source": [
        "!git clone https://github.com/AlexeyAB/darknet.git"
      ],
      "execution_count": 0,
      "outputs": []
    },
    {
      "cell_type": "markdown",
      "metadata": {
        "id": "hScd44HbzCFi",
        "colab_type": "text"
      },
      "source": [
        "Chnage to Darknet Directory"
      ]
    },
    {
      "cell_type": "code",
      "metadata": {
        "id": "IA80PFAMPRKl",
        "colab_type": "code",
        "colab": {}
      },
      "source": [
        "import os\n",
        "os.chdir('/content/darknet')"
      ],
      "execution_count": 0,
      "outputs": []
    },
    {
      "cell_type": "markdown",
      "metadata": {
        "id": "ZdIipDISzHkI",
        "colab_type": "text"
      },
      "source": [
        "Clone vehical parts detection git"
      ]
    },
    {
      "cell_type": "code",
      "metadata": {
        "id": "HOo-TsO7PYuz",
        "colab_type": "code",
        "colab": {}
      },
      "source": [
        "!git clone https://github.com/mojo46/Vehical_parts_detection.git"
      ],
      "execution_count": 0,
      "outputs": []
    },
    {
      "cell_type": "markdown",
      "metadata": {
        "id": "U0tV_T4fzPMv",
        "colab_type": "text"
      },
      "source": [
        "Remove the Exsisting Makefile"
      ]
    },
    {
      "cell_type": "code",
      "metadata": {
        "id": "ESlEknRkWRSm",
        "colab_type": "code",
        "colab": {}
      },
      "source": [
        "!rm -r /content/darknet/Makefile"
      ],
      "execution_count": 0,
      "outputs": []
    },
    {
      "cell_type": "markdown",
      "metadata": {
        "id": "fNnOlFwBzUhO",
        "colab_type": "text"
      },
      "source": [
        "Copy the Required Data and files to Darknet folder"
      ]
    },
    {
      "cell_type": "code",
      "metadata": {
        "id": "fa8PLLrlPkRT",
        "colab_type": "code",
        "colab": {}
      },
      "source": [
        "!cp -r /content/darknet/Vehical_parts_detection/* /content/darknet"
      ],
      "execution_count": 0,
      "outputs": []
    },
    {
      "cell_type": "markdown",
      "metadata": {
        "id": "AsUJHLeQzkpD",
        "colab_type": "text"
      },
      "source": [
        "### Display the Makefile to check weather the gpu is enabled to make the training a crazy faster "
      ]
    },
    {
      "cell_type": "code",
      "metadata": {
        "id": "gqJobyWyP3Oc",
        "colab_type": "code",
        "colab": {}
      },
      "source": [
        "!cat /content/darknet/Makefile"
      ],
      "execution_count": 0,
      "outputs": []
    },
    {
      "cell_type": "markdown",
      "metadata": {
        "id": "0U89S5djz1jk",
        "colab_type": "text"
      },
      "source": [
        "Compile the make file to generate darknet executable"
      ]
    },
    {
      "cell_type": "code",
      "metadata": {
        "id": "dhace1U1P_l4",
        "colab_type": "code",
        "colab": {}
      },
      "source": [
        "!make"
      ],
      "execution_count": 0,
      "outputs": []
    },
    {
      "cell_type": "markdown",
      "metadata": {
        "id": "bbqcGjzwz_5C",
        "colab_type": "text"
      },
      "source": [
        "### Test the weather make has generated darknet Executable "
      ]
    },
    {
      "cell_type": "code",
      "metadata": {
        "id": "NlDYQgeZQGO8",
        "colab_type": "code",
        "outputId": "c97da291-8e93-4b00-a56a-e44942c13808",
        "colab": {
          "base_uri": "https://localhost:8080/",
          "height": 33
        }
      },
      "source": [
        "! ./darknet"
      ],
      "execution_count": 8,
      "outputs": [
        {
          "output_type": "stream",
          "text": [
            "usage: ./darknet <function>\n"
          ],
          "name": "stdout"
        }
      ]
    },
    {
      "cell_type": "markdown",
      "metadata": {
        "id": "QhWQhhHz0M7M",
        "colab_type": "text"
      },
      "source": [
        "Load the pretrained model for easy training your use model"
      ]
    },
    {
      "cell_type": "code",
      "metadata": {
        "id": "PzkUJthQQG9H",
        "colab_type": "code",
        "colab": {}
      },
      "source": [
        "!wget https://pjreddie.com/media/files/darknet19_448.conv.23"
      ],
      "execution_count": 0,
      "outputs": []
    },
    {
      "cell_type": "markdown",
      "metadata": {
        "id": "MQtb_eY90Z51",
        "colab_type": "text"
      },
      "source": [
        "Start training ,\n",
        "after 100 epoch's u can find weights under baskup folder"
      ]
    },
    {
      "cell_type": "code",
      "metadata": {
        "id": "Q56-SAaMQWuc",
        "colab_type": "code",
        "colab": {}
      },
      "source": [
        "!./darknet detector train /content/darknet/obj.data /content/darknet/yolo-voc.2.0.cfg darknet19_448.conv.23 -dont_show 0"
      ],
      "execution_count": 0,
      "outputs": []
    },
    {
      "cell_type": "markdown",
      "metadata": {
        "id": "uJBFv0Z20zao",
        "colab_type": "text"
      },
      "source": [
        "Either download the weights OR Mount your Google Drive and save the weight."
      ]
    },
    {
      "cell_type": "code",
      "metadata": {
        "id": "5x3wjJ2deQ4W",
        "colab_type": "code",
        "colab": {}
      },
      "source": [
        "from google.colab import drive\n",
        "drive.mount('/content/drive')"
      ],
      "execution_count": 0,
      "outputs": []
    },
    {
      "cell_type": "code",
      "metadata": {
        "id": "IaB4MpKUeZmM",
        "colab_type": "code",
        "colab": {}
      },
      "source": [
        "!mkdir '/content/drive/My Drive/Vehical_parts'"
      ],
      "execution_count": 0,
      "outputs": []
    },
    {
      "cell_type": "code",
      "metadata": {
        "id": "bPsfrCfeeuTo",
        "colab_type": "code",
        "colab": {}
      },
      "source": [
        "!cp -r '/content/darknet/backup' '/content/drive/My Drive/Vehical_parts'"
      ],
      "execution_count": 0,
      "outputs": []
    },
    {
      "cell_type": "markdown",
      "metadata": {
        "id": "srmOAU721Iu5",
        "colab_type": "text"
      },
      "source": [
        "Test the model with a test image and get find the labled image as predictions.png"
      ]
    },
    {
      "cell_type": "code",
      "metadata": {
        "id": "laFXjm-Xe8Hn",
        "colab_type": "code",
        "colab": {}
      },
      "source": [
        "!./darknet detector test.txt /content/darknet/obj.data /content/darknet/yolo-voc.2.0.cfg darknet19_448.conv.23 -dont_show 0"
      ],
      "execution_count": 0,
      "outputs": []
    },
    {
      "cell_type": "code",
      "metadata": {
        "id": "28LXRbMEpWdi",
        "colab_type": "code",
        "colab": {}
      },
      "source": [
        "!cp '/content/drive/My Drive/Vehical_parts/backup/yolo-voc_last.weights' '/content/darknet/backup'"
      ],
      "execution_count": 0,
      "outputs": []
    },
    {
      "cell_type": "code",
      "metadata": {
        "id": "cgVUbjpJQ2Uy",
        "colab_type": "code",
        "colab": {}
      },
      "source": [
        "!./darknet detector test /content/darknet/obj.data /content/darknet/yolo-voc.2.0.cfg /content/darknet/backup/yolo-voc_last.weights '/content/darknet/download (1).jpg'"
      ],
      "execution_count": 0,
      "outputs": []
    }
  ]
}