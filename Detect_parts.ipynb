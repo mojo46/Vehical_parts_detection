{
  "nbformat": 4,
  "nbformat_minor": 0,
  "metadata": {
    "colab": {
      "name": "Detect_parts.ipynb",
      "provenance": [],
      "include_colab_link": true
    },
    "kernelspec": {
      "name": "python3",
      "display_name": "Python 3"
    },
    "accelerator": "GPU"
  },
  "cells": [
    {
      "cell_type": "markdown",
      "metadata": {
        "id": "view-in-github",
        "colab_type": "text"
      },
      "source": [
        "<a href=\"https://colab.research.google.com/github/mojo46/Vehical_parts_detection/blob/master/Detect_parts.ipynb\" target=\"_parent\"><img src=\"https://colab.research.google.com/assets/colab-badge.svg\" alt=\"Open In Colab\"/></a>"
      ]
    },
    {
      "cell_type": "code",
      "metadata": {
        "id": "3BlHoizYTXXj",
        "colab_type": "code",
        "colab": {
          "base_uri": "https://localhost:8080/",
          "height": 134
        },
        "outputId": "85217112-6e9e-438e-f696-a76d18163e5b"
      },
      "source": [
        "!git clone https://github.com/AlexeyAB/darknet.git"
      ],
      "execution_count": 1,
      "outputs": [
        {
          "output_type": "stream",
          "text": [
            "Cloning into 'darknet'...\n",
            "remote: Enumerating objects: 22, done.\u001b[K\n",
            "remote: Counting objects: 100% (22/22), done.\u001b[K\n",
            "remote: Compressing objects: 100% (16/16), done.\u001b[K\n",
            "remote: Total 11112 (delta 8), reused 11 (delta 6), pack-reused 11090\u001b[K\n",
            "Receiving objects: 100% (11112/11112), 10.76 MiB | 7.27 MiB/s, done.\n",
            "Resolving deltas: 100% (7472/7472), done.\n"
          ],
          "name": "stdout"
        }
      ]
    },
    {
      "cell_type": "markdown",
      "metadata": {
        "id": "E0MzZgF8T6uA",
        "colab_type": "text"
      },
      "source": [
        "Clone Labeled Data"
      ]
    },
    {
      "cell_type": "code",
      "metadata": {
        "id": "VlCC6qIvUGS2",
        "colab_type": "code",
        "colab": {
          "base_uri": "https://localhost:8080/",
          "height": 134
        },
        "outputId": "5225c51c-2ca1-48e9-b5ce-b34589747467"
      },
      "source": [
        "!git clone https://github.com/mojo46/Vehical_parts_detection.git"
      ],
      "execution_count": 2,
      "outputs": [
        {
          "output_type": "stream",
          "text": [
            "Cloning into 'Vehical_parts_detection'...\n",
            "remote: Enumerating objects: 75, done.\u001b[K\n",
            "remote: Counting objects:   1% (1/75)\u001b[K\rremote: Counting objects:   2% (2/75)\u001b[K\rremote: Counting objects:   4% (3/75)\u001b[K\rremote: Counting objects:   5% (4/75)\u001b[K\rremote: Counting objects:   6% (5/75)\u001b[K\rremote: Counting objects:   8% (6/75)\u001b[K\rremote: Counting objects:   9% (7/75)\u001b[K\rremote: Counting objects:  10% (8/75)\u001b[K\rremote: Counting objects:  12% (9/75)\u001b[K\rremote: Counting objects:  13% (10/75)\u001b[K\rremote: Counting objects:  14% (11/75)\u001b[K\rremote: Counting objects:  16% (12/75)\u001b[K\rremote: Counting objects:  17% (13/75)\u001b[K\rremote: Counting objects:  18% (14/75)\u001b[K\rremote: Counting objects:  20% (15/75)\u001b[K\rremote: Counting objects:  21% (16/75)\u001b[K\rremote: Counting objects:  22% (17/75)\u001b[K\rremote: Counting objects:  24% (18/75)\u001b[K\rremote: Counting objects:  25% (19/75)\u001b[K\rremote: Counting objects:  26% (20/75)\u001b[K\rremote: Counting objects:  28% (21/75)\u001b[K\rremote: Counting objects:  29% (22/75)\u001b[K\rremote: Counting objects:  30% (23/75)\u001b[K\rremote: Counting objects:  32% (24/75)\u001b[K\rremote: Counting objects:  33% (25/75)\u001b[K\rremote: Counting objects:  34% (26/75)\u001b[K\rremote: Counting objects:  36% (27/75)\u001b[K\rremote: Counting objects:  37% (28/75)\u001b[K\rremote: Counting objects:  38% (29/75)\u001b[K\rremote: Counting objects:  40% (30/75)\u001b[K\rremote: Counting objects:  41% (31/75)\u001b[K\rremote: Counting objects:  42% (32/75)\u001b[K\rremote: Counting objects:  44% (33/75)\u001b[K\rremote: Counting objects:  45% (34/75)\u001b[K\rremote: Counting objects:  46% (35/75)\u001b[K\rremote: Counting objects:  48% (36/75)\u001b[K\rremote: Counting objects:  49% (37/75)\u001b[K\rremote: Counting objects:  50% (38/75)\u001b[K\rremote: Counting objects:  52% (39/75)\u001b[K\rremote: Counting objects:  53% (40/75)\u001b[K\rremote: Counting objects:  54% (41/75)\u001b[K\rremote: Counting objects:  56% (42/75)\u001b[K\rremote: Counting objects:  57% (43/75)\u001b[K\rremote: Counting objects:  58% (44/75)\u001b[K\rremote: Counting objects:  60% (45/75)\u001b[K\rremote: Counting objects:  61% (46/75)\u001b[K\rremote: Counting objects:  62% (47/75)\u001b[K\rremote: Counting objects:  64% (48/75)\u001b[K\rremote: Counting objects:  65% (49/75)\u001b[K\rremote: Counting objects:  66% (50/75)\u001b[K\rremote: Counting objects:  68% (51/75)\u001b[K\rremote: Counting objects:  69% (52/75)\u001b[K\rremote: Counting objects:  70% (53/75)\u001b[K\rremote: Counting objects:  72% (54/75)\u001b[K\rremote: Counting objects:  73% (55/75)\u001b[K\rremote: Counting objects:  74% (56/75)\u001b[K\rremote: Counting objects:  76% (57/75)\u001b[K\rremote: Counting objects:  77% (58/75)\u001b[K\rremote: Counting objects:  78% (59/75)\u001b[K\rremote: Counting objects:  80% (60/75)\u001b[K\rremote: Counting objects:  81% (61/75)\u001b[K\rremote: Counting objects:  82% (62/75)\u001b[K\rremote: Counting objects:  84% (63/75)\u001b[K\rremote: Counting objects:  85% (64/75)\u001b[K\rremote: Counting objects:  86% (65/75)\u001b[K\rremote: Counting objects:  88% (66/75)\u001b[K\rremote: Counting objects:  89% (67/75)\u001b[K\rremote: Counting objects:  90% (68/75)\u001b[K\rremote: Counting objects:  92% (69/75)\u001b[K\rremote: Counting objects:  93% (70/75)\u001b[K\rremote: Counting objects:  94% (71/75)\u001b[K\rremote: Counting objects:  96% (72/75)\u001b[K\rremote: Counting objects:  97% (73/75)\u001b[K\rremote: Counting objects:  98% (74/75)\u001b[K\rremote: Counting objects: 100% (75/75)\u001b[K\rremote: Counting objects: 100% (75/75), done.\u001b[K\n",
            "remote: Compressing objects: 100% (48/48), done.\u001b[K\n",
            "remote: Total 697 (delta 40), reused 48 (delta 23), pack-reused 622\n",
            "Receiving objects: 100% (697/697), 50.34 MiB | 11.43 MiB/s, done.\n",
            "Resolving deltas: 100% (77/77), done.\n"
          ],
          "name": "stdout"
        }
      ]
    },
    {
      "cell_type": "markdown",
      "metadata": {
        "id": "vYoYheCYG6VW",
        "colab_type": "text"
      },
      "source": [
        "Test train split in text files"
      ]
    },
    {
      "cell_type": "code",
      "metadata": {
        "id": "iYcIcr7XInBt",
        "colab_type": "code",
        "colab": {}
      },
      "source": [
        "!cat /content/Vehical_parts_detection/train.txt"
      ],
      "execution_count": 0,
      "outputs": []
    },
    {
      "cell_type": "code",
      "metadata": {
        "id": "JUQiSeTVG598",
        "colab_type": "code",
        "colab": {
          "base_uri": "https://localhost:8080/",
          "height": 401
        },
        "outputId": "f0778cb1-8f91-4c8e-a422-709fe1bbaf6f"
      },
      "source": [
        "!cat /content/Vehical_parts_detection/train_test.py"
      ],
      "execution_count": 4,
      "outputs": [
        {
          "output_type": "stream",
          "text": [
            "from imutils import paths\n",
            "import os\n",
            "current_dir = 'RenaultKwidImages'\n",
            "print(\"[INFO] loading images...\")\n",
            "imagePaths = list(paths.list_images(current_dir))\n",
            "file_train = open('train.txt', 'w')  \n",
            "file_test = open('test.txt', 'w')\n",
            "percentage_test = 10\n",
            "\n",
            "counter = 1  \n",
            "index_test = round(100 / percentage_test)  \n",
            "\n",
            "\n",
            "for image in imagePaths:\n",
            "\tpath = os.path.dirname(image)+'/'+os.path.basename(image)\n",
            "\tfile_train.write(path+'\\n')\n",
            "\tif counter == index_test:\n",
            "\t\tcounter = 1\n",
            "\t\tprint(path)\n",
            "\t\tfile_test.write(path + \"\\n\")\n",
            "\telse:\n",
            "\t\tfile_train.write(path + \"\\n\")\n",
            "\t\tcounter = counter + 1\n"
          ],
          "name": "stdout"
        }
      ]
    },
    {
      "cell_type": "code",
      "metadata": {
        "id": "z6bP06nDHbWg",
        "colab_type": "code",
        "colab": {}
      },
      "source": [
        "cat /content/Vehical_parts_detection/train.txt"
      ],
      "execution_count": 0,
      "outputs": []
    },
    {
      "cell_type": "code",
      "metadata": {
        "id": "zBvC_tLSU7yI",
        "colab_type": "code",
        "colab": {}
      },
      "source": [
        "import os\n",
        "os.chdir('/content/darknet')"
      ],
      "execution_count": 0,
      "outputs": []
    },
    {
      "cell_type": "code",
      "metadata": {
        "id": "UHDYDyA9VF-g",
        "colab_type": "code",
        "colab": {
          "base_uri": "https://localhost:8080/",
          "height": 1000
        },
        "outputId": "4a7b3f15-45f3-4e41-c1d8-125ee0f6dec3"
      },
      "source": [
        "!make"
      ],
      "execution_count": 7,
      "outputs": [
        {
          "output_type": "stream",
          "text": [
            "mkdir -p obj\n",
            "mkdir -p backup\n",
            "mkdir -p results\n",
            "chmod +x *.sh\n",
            "g++ -std=c++11 -Iinclude/ -I3rdparty/stb/include -Wall -Wfatal-errors -Wno-unused-result -Wno-unknown-pragmas -fPIC -Ofast -c ./src/image_opencv.cpp -o obj/image_opencv.o\n",
            "g++ -std=c++11 -Iinclude/ -I3rdparty/stb/include -Wall -Wfatal-errors -Wno-unused-result -Wno-unknown-pragmas -fPIC -Ofast -c ./src/http_stream.cpp -o obj/http_stream.o\n",
            "\u001b[01m\u001b[K./src/http_stream.cpp:\u001b[m\u001b[K In member function ‘\u001b[01m\u001b[Kbool JSON_sender::write(const char*)\u001b[m\u001b[K’:\n",
            "\u001b[01m\u001b[K./src/http_stream.cpp:243:21:\u001b[m\u001b[K \u001b[01;35m\u001b[Kwarning: \u001b[m\u001b[Kunused variable ‘\u001b[01m\u001b[Kn\u001b[m\u001b[K’ [\u001b[01;35m\u001b[K-Wunused-variable\u001b[m\u001b[K]\n",
            "                 int \u001b[01;35m\u001b[Kn\u001b[m\u001b[K = _write(client, outputbuf, outlen);\n",
            "                     \u001b[01;35m\u001b[K^\u001b[m\u001b[K\n",
            "gcc -Iinclude/ -I3rdparty/stb/include -Wall -Wfatal-errors -Wno-unused-result -Wno-unknown-pragmas -fPIC -Ofast -c ./src/gemm.c -o obj/gemm.o\n",
            "\u001b[01m\u001b[K./src/gemm.c:\u001b[m\u001b[K In function ‘\u001b[01m\u001b[Kconvolution_2d\u001b[m\u001b[K’:\n",
            "\u001b[01m\u001b[K./src/gemm.c:2037:15:\u001b[m\u001b[K \u001b[01;35m\u001b[Kwarning: \u001b[m\u001b[Kunused variable ‘\u001b[01m\u001b[Kout_w\u001b[m\u001b[K’ [\u001b[01;35m\u001b[K-Wunused-variable\u001b[m\u001b[K]\n",
            "     const int \u001b[01;35m\u001b[Kout_w\u001b[m\u001b[K = (w + 2 * pad - ksize) / stride + 1;    // output_width=input_width for stride=1 and pad=1\n",
            "               \u001b[01;35m\u001b[K^~~~~\u001b[m\u001b[K\n",
            "\u001b[01m\u001b[K./src/gemm.c:2036:15:\u001b[m\u001b[K \u001b[01;35m\u001b[Kwarning: \u001b[m\u001b[Kunused variable ‘\u001b[01m\u001b[Kout_h\u001b[m\u001b[K’ [\u001b[01;35m\u001b[K-Wunused-variable\u001b[m\u001b[K]\n",
            "     const int \u001b[01;35m\u001b[Kout_h\u001b[m\u001b[K = (h + 2 * pad - ksize) / stride + 1;    // output_height=input_height for stride=1 and pad=1\n",
            "               \u001b[01;35m\u001b[K^~~~~\u001b[m\u001b[K\n",
            "gcc -Iinclude/ -I3rdparty/stb/include -Wall -Wfatal-errors -Wno-unused-result -Wno-unknown-pragmas -fPIC -Ofast -c ./src/utils.c -o obj/utils.o\n",
            "gcc -Iinclude/ -I3rdparty/stb/include -Wall -Wfatal-errors -Wno-unused-result -Wno-unknown-pragmas -fPIC -Ofast -c ./src/dark_cuda.c -o obj/dark_cuda.o\n",
            "gcc -Iinclude/ -I3rdparty/stb/include -Wall -Wfatal-errors -Wno-unused-result -Wno-unknown-pragmas -fPIC -Ofast -c ./src/convolutional_layer.c -o obj/convolutional_layer.o\n",
            "\u001b[01m\u001b[K./src/convolutional_layer.c:\u001b[m\u001b[K In function ‘\u001b[01m\u001b[Kresize_convolutional_layer\u001b[m\u001b[K’:\n",
            "\u001b[01m\u001b[K./src/convolutional_layer.c:721:9:\u001b[m\u001b[K \u001b[01;35m\u001b[Kwarning: \u001b[m\u001b[Kunused variable ‘\u001b[01m\u001b[Kold_h\u001b[m\u001b[K’ [\u001b[01;35m\u001b[K-Wunused-variable\u001b[m\u001b[K]\n",
            "     int \u001b[01;35m\u001b[Kold_h\u001b[m\u001b[K = l->h;\n",
            "         \u001b[01;35m\u001b[K^~~~~\u001b[m\u001b[K\n",
            "\u001b[01m\u001b[K./src/convolutional_layer.c:720:9:\u001b[m\u001b[K \u001b[01;35m\u001b[Kwarning: \u001b[m\u001b[Kunused variable ‘\u001b[01m\u001b[Kold_w\u001b[m\u001b[K’ [\u001b[01;35m\u001b[K-Wunused-variable\u001b[m\u001b[K]\n",
            "     int \u001b[01;35m\u001b[Kold_w\u001b[m\u001b[K = l->w;\n",
            "         \u001b[01;35m\u001b[K^~~~~\u001b[m\u001b[K\n",
            "\u001b[01m\u001b[K./src/convolutional_layer.c:\u001b[m\u001b[K In function ‘\u001b[01m\u001b[Kforward_convolutional_layer\u001b[m\u001b[K’:\n",
            "\u001b[01m\u001b[K./src/convolutional_layer.c:1134:32:\u001b[m\u001b[K \u001b[01;35m\u001b[Kwarning: \u001b[m\u001b[Kunused variable ‘\u001b[01m\u001b[Kt_intput_size\u001b[m\u001b[K’ [\u001b[01;35m\u001b[K-Wunused-variable\u001b[m\u001b[K]\n",
            "                         size_t \u001b[01;35m\u001b[Kt_intput_size\u001b[m\u001b[K = binary_transpose_align_input(k, n, state.workspace, &l.t_bit_input, ldb_align, l.bit_align);\n",
            "                                \u001b[01;35m\u001b[K^~~~~~~~~~~~~\u001b[m\u001b[K\n",
            "gcc -Iinclude/ -I3rdparty/stb/include -Wall -Wfatal-errors -Wno-unused-result -Wno-unknown-pragmas -fPIC -Ofast -c ./src/list.c -o obj/list.o\n",
            "gcc -Iinclude/ -I3rdparty/stb/include -Wall -Wfatal-errors -Wno-unused-result -Wno-unknown-pragmas -fPIC -Ofast -c ./src/image.c -o obj/image.o\n",
            "gcc -Iinclude/ -I3rdparty/stb/include -Wall -Wfatal-errors -Wno-unused-result -Wno-unknown-pragmas -fPIC -Ofast -c ./src/activations.c -o obj/activations.o\n",
            "\u001b[01m\u001b[K./src/activations.c:\u001b[m\u001b[K In function ‘\u001b[01m\u001b[Kactivate\u001b[m\u001b[K’:\n",
            "\u001b[01m\u001b[K./src/activations.c:69:5:\u001b[m\u001b[K \u001b[01;35m\u001b[Kwarning: \u001b[m\u001b[Kenumeration value ‘\u001b[01m\u001b[KSWISH\u001b[m\u001b[K’ not handled in switch [\u001b[01;35m\u001b[K-Wswitch\u001b[m\u001b[K]\n",
            "     \u001b[01;35m\u001b[Kswitch\u001b[m\u001b[K(a){\n",
            "     \u001b[01;35m\u001b[K^~~~~~\u001b[m\u001b[K\n",
            "\u001b[01m\u001b[K./src/activations.c:69:5:\u001b[m\u001b[K \u001b[01;35m\u001b[Kwarning: \u001b[m\u001b[Kenumeration value ‘\u001b[01m\u001b[KMISH\u001b[m\u001b[K’ not handled in switch [\u001b[01;35m\u001b[K-Wswitch\u001b[m\u001b[K]\n",
            "\u001b[01m\u001b[K./src/activations.c:\u001b[m\u001b[K In function ‘\u001b[01m\u001b[Kgradient\u001b[m\u001b[K’:\n",
            "\u001b[01m\u001b[K./src/activations.c:151:5:\u001b[m\u001b[K \u001b[01;35m\u001b[Kwarning: \u001b[m\u001b[Kenumeration value ‘\u001b[01m\u001b[KSWISH\u001b[m\u001b[K’ not handled in switch [\u001b[01;35m\u001b[K-Wswitch\u001b[m\u001b[K]\n",
            "     \u001b[01;35m\u001b[Kswitch\u001b[m\u001b[K(a){\n",
            "     \u001b[01;35m\u001b[K^~~~~~\u001b[m\u001b[K\n",
            "\u001b[01m\u001b[K./src/activations.c:151:5:\u001b[m\u001b[K \u001b[01;35m\u001b[Kwarning: \u001b[m\u001b[Kenumeration value ‘\u001b[01m\u001b[KMISH\u001b[m\u001b[K’ not handled in switch [\u001b[01;35m\u001b[K-Wswitch\u001b[m\u001b[K]\n",
            "gcc -Iinclude/ -I3rdparty/stb/include -Wall -Wfatal-errors -Wno-unused-result -Wno-unknown-pragmas -fPIC -Ofast -c ./src/im2col.c -o obj/im2col.o\n",
            "gcc -Iinclude/ -I3rdparty/stb/include -Wall -Wfatal-errors -Wno-unused-result -Wno-unknown-pragmas -fPIC -Ofast -c ./src/col2im.c -o obj/col2im.o\n",
            "gcc -Iinclude/ -I3rdparty/stb/include -Wall -Wfatal-errors -Wno-unused-result -Wno-unknown-pragmas -fPIC -Ofast -c ./src/blas.c -o obj/blas.o\n",
            "gcc -Iinclude/ -I3rdparty/stb/include -Wall -Wfatal-errors -Wno-unused-result -Wno-unknown-pragmas -fPIC -Ofast -c ./src/crop_layer.c -o obj/crop_layer.o\n",
            "gcc -Iinclude/ -I3rdparty/stb/include -Wall -Wfatal-errors -Wno-unused-result -Wno-unknown-pragmas -fPIC -Ofast -c ./src/dropout_layer.c -o obj/dropout_layer.o\n",
            "gcc -Iinclude/ -I3rdparty/stb/include -Wall -Wfatal-errors -Wno-unused-result -Wno-unknown-pragmas -fPIC -Ofast -c ./src/maxpool_layer.c -o obj/maxpool_layer.o\n",
            "gcc -Iinclude/ -I3rdparty/stb/include -Wall -Wfatal-errors -Wno-unused-result -Wno-unknown-pragmas -fPIC -Ofast -c ./src/softmax_layer.c -o obj/softmax_layer.o\n",
            "gcc -Iinclude/ -I3rdparty/stb/include -Wall -Wfatal-errors -Wno-unused-result -Wno-unknown-pragmas -fPIC -Ofast -c ./src/data.c -o obj/data.o\n",
            "\u001b[01m\u001b[K./src/data.c:\u001b[m\u001b[K In function ‘\u001b[01m\u001b[Kload_data_detection\u001b[m\u001b[K’:\n",
            "\u001b[01m\u001b[K./src/data.c:1062:19:\u001b[m\u001b[K \u001b[01;35m\u001b[Kwarning: \u001b[m\u001b[Kunused variable ‘\u001b[01m\u001b[Kscale\u001b[m\u001b[K’ [\u001b[01;35m\u001b[K-Wunused-variable\u001b[m\u001b[K]\n",
            "             float \u001b[01;35m\u001b[Kscale\u001b[m\u001b[K = rand_precalc_random(.25, 2, r_scale); // unused currently\n",
            "                   \u001b[01;35m\u001b[K^~~~~\u001b[m\u001b[K\n",
            "\u001b[01m\u001b[K./src/data.c:1062:19:\u001b[m\u001b[K \u001b[01;35m\u001b[Kwarning: \u001b[m\u001b[K‘\u001b[01m\u001b[Kr_scale\u001b[m\u001b[K’ may be used uninitialized in this function [\u001b[01;35m\u001b[K-Wmaybe-uninitialized\u001b[m\u001b[K]\n",
            "             float \u001b[01;35m\u001b[Kscale\u001b[m\u001b[K = rand_precalc_random(.25, 2, r_scale); // unused currently\n",
            "                   \u001b[01;35m\u001b[K^~~~~\u001b[m\u001b[K\n",
            "gcc -Iinclude/ -I3rdparty/stb/include -Wall -Wfatal-errors -Wno-unused-result -Wno-unknown-pragmas -fPIC -Ofast -c ./src/matrix.c -o obj/matrix.o\n",
            "gcc -Iinclude/ -I3rdparty/stb/include -Wall -Wfatal-errors -Wno-unused-result -Wno-unknown-pragmas -fPIC -Ofast -c ./src/network.c -o obj/network.o\n",
            "gcc -Iinclude/ -I3rdparty/stb/include -Wall -Wfatal-errors -Wno-unused-result -Wno-unknown-pragmas -fPIC -Ofast -c ./src/connected_layer.c -o obj/connected_layer.o\n",
            "gcc -Iinclude/ -I3rdparty/stb/include -Wall -Wfatal-errors -Wno-unused-result -Wno-unknown-pragmas -fPIC -Ofast -c ./src/cost_layer.c -o obj/cost_layer.o\n",
            "gcc -Iinclude/ -I3rdparty/stb/include -Wall -Wfatal-errors -Wno-unused-result -Wno-unknown-pragmas -fPIC -Ofast -c ./src/parser.c -o obj/parser.o\n",
            "\u001b[01m\u001b[K./src/parser.c:\u001b[m\u001b[K In function ‘\u001b[01m\u001b[Kparse_route\u001b[m\u001b[K’:\n",
            "\u001b[01m\u001b[K./src/parser.c:808:21:\u001b[m\u001b[K \u001b[01;35m\u001b[Kwarning: \u001b[m\u001b[Ktoo many arguments for format [\u001b[01;35m\u001b[K-Wformat-extra-args\u001b[m\u001b[K]\n",
            "     fprintf(stderr, \u001b[01;35m\u001b[K\"                 -> %4d x%4d x%4d \\n\"\u001b[m\u001b[K, layer.w, layer.h, layer.c, layer.out_w, layer.out_h, layer.out_c);\n",
            "                     \u001b[01;35m\u001b[K^~~~~~~~~~~~~~~~~~~~~~~~~~~~~~~~~~~~~~\u001b[m\u001b[K\n",
            "gcc -Iinclude/ -I3rdparty/stb/include -Wall -Wfatal-errors -Wno-unused-result -Wno-unknown-pragmas -fPIC -Ofast -c ./src/option_list.c -o obj/option_list.o\n",
            "gcc -Iinclude/ -I3rdparty/stb/include -Wall -Wfatal-errors -Wno-unused-result -Wno-unknown-pragmas -fPIC -Ofast -c ./src/darknet.c -o obj/darknet.o\n",
            "gcc -Iinclude/ -I3rdparty/stb/include -Wall -Wfatal-errors -Wno-unused-result -Wno-unknown-pragmas -fPIC -Ofast -c ./src/detection_layer.c -o obj/detection_layer.o\n",
            "gcc -Iinclude/ -I3rdparty/stb/include -Wall -Wfatal-errors -Wno-unused-result -Wno-unknown-pragmas -fPIC -Ofast -c ./src/captcha.c -o obj/captcha.o\n",
            "gcc -Iinclude/ -I3rdparty/stb/include -Wall -Wfatal-errors -Wno-unused-result -Wno-unknown-pragmas -fPIC -Ofast -c ./src/route_layer.c -o obj/route_layer.o\n",
            "gcc -Iinclude/ -I3rdparty/stb/include -Wall -Wfatal-errors -Wno-unused-result -Wno-unknown-pragmas -fPIC -Ofast -c ./src/writing.c -o obj/writing.o\n",
            "gcc -Iinclude/ -I3rdparty/stb/include -Wall -Wfatal-errors -Wno-unused-result -Wno-unknown-pragmas -fPIC -Ofast -c ./src/box.c -o obj/box.o\n",
            "gcc -Iinclude/ -I3rdparty/stb/include -Wall -Wfatal-errors -Wno-unused-result -Wno-unknown-pragmas -fPIC -Ofast -c ./src/nightmare.c -o obj/nightmare.o\n",
            "gcc -Iinclude/ -I3rdparty/stb/include -Wall -Wfatal-errors -Wno-unused-result -Wno-unknown-pragmas -fPIC -Ofast -c ./src/normalization_layer.c -o obj/normalization_layer.o\n",
            "gcc -Iinclude/ -I3rdparty/stb/include -Wall -Wfatal-errors -Wno-unused-result -Wno-unknown-pragmas -fPIC -Ofast -c ./src/avgpool_layer.c -o obj/avgpool_layer.o\n",
            "gcc -Iinclude/ -I3rdparty/stb/include -Wall -Wfatal-errors -Wno-unused-result -Wno-unknown-pragmas -fPIC -Ofast -c ./src/coco.c -o obj/coco.o\n",
            "gcc -Iinclude/ -I3rdparty/stb/include -Wall -Wfatal-errors -Wno-unused-result -Wno-unknown-pragmas -fPIC -Ofast -c ./src/dice.c -o obj/dice.o\n",
            "gcc -Iinclude/ -I3rdparty/stb/include -Wall -Wfatal-errors -Wno-unused-result -Wno-unknown-pragmas -fPIC -Ofast -c ./src/yolo.c -o obj/yolo.o\n",
            "gcc -Iinclude/ -I3rdparty/stb/include -Wall -Wfatal-errors -Wno-unused-result -Wno-unknown-pragmas -fPIC -Ofast -c ./src/detector.c -o obj/detector.o\n",
            "\u001b[01m\u001b[K./src/detector.c:\u001b[m\u001b[K In function ‘\u001b[01m\u001b[Ktrain_detector\u001b[m\u001b[K’:\n",
            "\u001b[01m\u001b[K./src/detector.c:52:16:\u001b[m\u001b[K \u001b[01;35m\u001b[Kwarning: \u001b[m\u001b[Kunused variable ‘\u001b[01m\u001b[Knames\u001b[m\u001b[K’ [\u001b[01;35m\u001b[K-Wunused-variable\u001b[m\u001b[K]\n",
            "         char **\u001b[01;35m\u001b[Knames\u001b[m\u001b[K = get_labels_custom(name_list, &names_size);\n",
            "                \u001b[01;35m\u001b[K^~~~~\u001b[m\u001b[K\n",
            "\u001b[01m\u001b[K./src/detector.c:258:13:\u001b[m\u001b[K \u001b[01;35m\u001b[Kwarning: \u001b[m\u001b[Kvariable ‘\u001b[01m\u001b[Kdraw_precision\u001b[m\u001b[K’ set but not used [\u001b[01;35m\u001b[K-Wunused-but-set-variable\u001b[m\u001b[K]\n",
            "         int \u001b[01;35m\u001b[Kdraw_precision\u001b[m\u001b[K = 0;\n",
            "             \u001b[01;35m\u001b[K^~~~~~~~~~~~~~\u001b[m\u001b[K\n",
            "\u001b[01m\u001b[K./src/detector.c:\u001b[m\u001b[K In function ‘\u001b[01m\u001b[Kvalidate_detector_map\u001b[m\u001b[K’:\n",
            "\u001b[01m\u001b[K./src/detector.c:1047:15:\u001b[m\u001b[K \u001b[01;35m\u001b[Kwarning: \u001b[m\u001b[Kunused variable ‘\u001b[01m\u001b[Kclass_recall\u001b[m\u001b[K’ [\u001b[01;35m\u001b[K-Wunused-variable\u001b[m\u001b[K]\n",
            "         float \u001b[01;35m\u001b[Kclass_recall\u001b[m\u001b[K = (float)tp_for_thresh_per_class[i] / ((float)tp_for_thresh_per_class[i] + (float)(truth_classes_count[i] - tp_for_thresh_per_class[i]));\n",
            "               \u001b[01;35m\u001b[K^~~~~~~~~~~~\u001b[m\u001b[K\n",
            "\u001b[01m\u001b[K./src/detector.c:1046:15:\u001b[m\u001b[K \u001b[01;35m\u001b[Kwarning: \u001b[m\u001b[Kunused variable ‘\u001b[01m\u001b[Kclass_precision\u001b[m\u001b[K’ [\u001b[01;35m\u001b[K-Wunused-variable\u001b[m\u001b[K]\n",
            "         float \u001b[01;35m\u001b[Kclass_precision\u001b[m\u001b[K = (float)tp_for_thresh_per_class[i] / ((float)tp_for_thresh_per_class[i] + (float)fp_for_thresh_per_class[i]);\n",
            "               \u001b[01;35m\u001b[K^~~~~~~~~~~~~~~\u001b[m\u001b[K\n",
            "gcc -Iinclude/ -I3rdparty/stb/include -Wall -Wfatal-errors -Wno-unused-result -Wno-unknown-pragmas -fPIC -Ofast -c ./src/layer.c -o obj/layer.o\n",
            "gcc -Iinclude/ -I3rdparty/stb/include -Wall -Wfatal-errors -Wno-unused-result -Wno-unknown-pragmas -fPIC -Ofast -c ./src/compare.c -o obj/compare.o\n",
            "gcc -Iinclude/ -I3rdparty/stb/include -Wall -Wfatal-errors -Wno-unused-result -Wno-unknown-pragmas -fPIC -Ofast -c ./src/classifier.c -o obj/classifier.o\n",
            "\u001b[01m\u001b[K./src/classifier.c:\u001b[m\u001b[K In function ‘\u001b[01m\u001b[Ktrain_classifier\u001b[m\u001b[K’:\n",
            "\u001b[01m\u001b[K./src/classifier.c:157:13:\u001b[m\u001b[K \u001b[01;35m\u001b[Kwarning: \u001b[m\u001b[Kvariable ‘\u001b[01m\u001b[Kdraw_precision\u001b[m\u001b[K’ set but not used [\u001b[01;35m\u001b[K-Wunused-but-set-variable\u001b[m\u001b[K]\n",
            "         int \u001b[01;35m\u001b[Kdraw_precision\u001b[m\u001b[K = 0;\n",
            "             \u001b[01;35m\u001b[K^~~~~~~~~~~~~~\u001b[m\u001b[K\n",
            "gcc -Iinclude/ -I3rdparty/stb/include -Wall -Wfatal-errors -Wno-unused-result -Wno-unknown-pragmas -fPIC -Ofast -c ./src/local_layer.c -o obj/local_layer.o\n",
            "gcc -Iinclude/ -I3rdparty/stb/include -Wall -Wfatal-errors -Wno-unused-result -Wno-unknown-pragmas -fPIC -Ofast -c ./src/swag.c -o obj/swag.o\n",
            "gcc -Iinclude/ -I3rdparty/stb/include -Wall -Wfatal-errors -Wno-unused-result -Wno-unknown-pragmas -fPIC -Ofast -c ./src/shortcut_layer.c -o obj/shortcut_layer.o\n",
            "gcc -Iinclude/ -I3rdparty/stb/include -Wall -Wfatal-errors -Wno-unused-result -Wno-unknown-pragmas -fPIC -Ofast -c ./src/activation_layer.c -o obj/activation_layer.o\n",
            "gcc -Iinclude/ -I3rdparty/stb/include -Wall -Wfatal-errors -Wno-unused-result -Wno-unknown-pragmas -fPIC -Ofast -c ./src/rnn_layer.c -o obj/rnn_layer.o\n",
            "gcc -Iinclude/ -I3rdparty/stb/include -Wall -Wfatal-errors -Wno-unused-result -Wno-unknown-pragmas -fPIC -Ofast -c ./src/gru_layer.c -o obj/gru_layer.o\n",
            "gcc -Iinclude/ -I3rdparty/stb/include -Wall -Wfatal-errors -Wno-unused-result -Wno-unknown-pragmas -fPIC -Ofast -c ./src/rnn.c -o obj/rnn.o\n",
            "gcc -Iinclude/ -I3rdparty/stb/include -Wall -Wfatal-errors -Wno-unused-result -Wno-unknown-pragmas -fPIC -Ofast -c ./src/rnn_vid.c -o obj/rnn_vid.o\n",
            "gcc -Iinclude/ -I3rdparty/stb/include -Wall -Wfatal-errors -Wno-unused-result -Wno-unknown-pragmas -fPIC -Ofast -c ./src/crnn_layer.c -o obj/crnn_layer.o\n",
            "gcc -Iinclude/ -I3rdparty/stb/include -Wall -Wfatal-errors -Wno-unused-result -Wno-unknown-pragmas -fPIC -Ofast -c ./src/demo.c -o obj/demo.o\n",
            "gcc -Iinclude/ -I3rdparty/stb/include -Wall -Wfatal-errors -Wno-unused-result -Wno-unknown-pragmas -fPIC -Ofast -c ./src/tag.c -o obj/tag.o\n",
            "gcc -Iinclude/ -I3rdparty/stb/include -Wall -Wfatal-errors -Wno-unused-result -Wno-unknown-pragmas -fPIC -Ofast -c ./src/cifar.c -o obj/cifar.o\n",
            "gcc -Iinclude/ -I3rdparty/stb/include -Wall -Wfatal-errors -Wno-unused-result -Wno-unknown-pragmas -fPIC -Ofast -c ./src/go.c -o obj/go.o\n",
            "gcc -Iinclude/ -I3rdparty/stb/include -Wall -Wfatal-errors -Wno-unused-result -Wno-unknown-pragmas -fPIC -Ofast -c ./src/batchnorm_layer.c -o obj/batchnorm_layer.o\n",
            "gcc -Iinclude/ -I3rdparty/stb/include -Wall -Wfatal-errors -Wno-unused-result -Wno-unknown-pragmas -fPIC -Ofast -c ./src/art.c -o obj/art.o\n",
            "gcc -Iinclude/ -I3rdparty/stb/include -Wall -Wfatal-errors -Wno-unused-result -Wno-unknown-pragmas -fPIC -Ofast -c ./src/region_layer.c -o obj/region_layer.o\n",
            "gcc -Iinclude/ -I3rdparty/stb/include -Wall -Wfatal-errors -Wno-unused-result -Wno-unknown-pragmas -fPIC -Ofast -c ./src/reorg_layer.c -o obj/reorg_layer.o\n",
            "gcc -Iinclude/ -I3rdparty/stb/include -Wall -Wfatal-errors -Wno-unused-result -Wno-unknown-pragmas -fPIC -Ofast -c ./src/reorg_old_layer.c -o obj/reorg_old_layer.o\n",
            "gcc -Iinclude/ -I3rdparty/stb/include -Wall -Wfatal-errors -Wno-unused-result -Wno-unknown-pragmas -fPIC -Ofast -c ./src/super.c -o obj/super.o\n",
            "gcc -Iinclude/ -I3rdparty/stb/include -Wall -Wfatal-errors -Wno-unused-result -Wno-unknown-pragmas -fPIC -Ofast -c ./src/voxel.c -o obj/voxel.o\n",
            "gcc -Iinclude/ -I3rdparty/stb/include -Wall -Wfatal-errors -Wno-unused-result -Wno-unknown-pragmas -fPIC -Ofast -c ./src/tree.c -o obj/tree.o\n",
            "gcc -Iinclude/ -I3rdparty/stb/include -Wall -Wfatal-errors -Wno-unused-result -Wno-unknown-pragmas -fPIC -Ofast -c ./src/yolo_layer.c -o obj/yolo_layer.o\n",
            "gcc -Iinclude/ -I3rdparty/stb/include -Wall -Wfatal-errors -Wno-unused-result -Wno-unknown-pragmas -fPIC -Ofast -c ./src/gaussian_yolo_layer.c -o obj/gaussian_yolo_layer.o\n",
            "gcc -Iinclude/ -I3rdparty/stb/include -Wall -Wfatal-errors -Wno-unused-result -Wno-unknown-pragmas -fPIC -Ofast -c ./src/upsample_layer.c -o obj/upsample_layer.o\n",
            "gcc -Iinclude/ -I3rdparty/stb/include -Wall -Wfatal-errors -Wno-unused-result -Wno-unknown-pragmas -fPIC -Ofast -c ./src/lstm_layer.c -o obj/lstm_layer.o\n",
            "gcc -Iinclude/ -I3rdparty/stb/include -Wall -Wfatal-errors -Wno-unused-result -Wno-unknown-pragmas -fPIC -Ofast -c ./src/conv_lstm_layer.c -o obj/conv_lstm_layer.o\n",
            "gcc -Iinclude/ -I3rdparty/stb/include -Wall -Wfatal-errors -Wno-unused-result -Wno-unknown-pragmas -fPIC -Ofast -c ./src/scale_channels_layer.c -o obj/scale_channels_layer.o\n",
            "gcc -Iinclude/ -I3rdparty/stb/include -Wall -Wfatal-errors -Wno-unused-result -Wno-unknown-pragmas -fPIC -Ofast -c ./src/sam_layer.c -o obj/sam_layer.o\n",
            "g++ -std=c++11 -Iinclude/ -I3rdparty/stb/include -Wall -Wfatal-errors -Wno-unused-result -Wno-unknown-pragmas -fPIC -Ofast obj/image_opencv.o obj/http_stream.o obj/gemm.o obj/utils.o obj/dark_cuda.o obj/convolutional_layer.o obj/list.o obj/image.o obj/activations.o obj/im2col.o obj/col2im.o obj/blas.o obj/crop_layer.o obj/dropout_layer.o obj/maxpool_layer.o obj/softmax_layer.o obj/data.o obj/matrix.o obj/network.o obj/connected_layer.o obj/cost_layer.o obj/parser.o obj/option_list.o obj/darknet.o obj/detection_layer.o obj/captcha.o obj/route_layer.o obj/writing.o obj/box.o obj/nightmare.o obj/normalization_layer.o obj/avgpool_layer.o obj/coco.o obj/dice.o obj/yolo.o obj/detector.o obj/layer.o obj/compare.o obj/classifier.o obj/local_layer.o obj/swag.o obj/shortcut_layer.o obj/activation_layer.o obj/rnn_layer.o obj/gru_layer.o obj/rnn.o obj/rnn_vid.o obj/crnn_layer.o obj/demo.o obj/tag.o obj/cifar.o obj/go.o obj/batchnorm_layer.o obj/art.o obj/region_layer.o obj/reorg_layer.o obj/reorg_old_layer.o obj/super.o obj/voxel.o obj/tree.o obj/yolo_layer.o obj/gaussian_yolo_layer.o obj/upsample_layer.o obj/lstm_layer.o obj/conv_lstm_layer.o obj/scale_channels_layer.o obj/sam_layer.o -o darknet -lm -pthread\n"
          ],
          "name": "stdout"
        }
      ]
    },
    {
      "cell_type": "code",
      "metadata": {
        "id": "dbITP0a6VMVx",
        "colab_type": "code",
        "colab": {
          "base_uri": "https://localhost:8080/",
          "height": 134
        },
        "outputId": "8d9e8dec-4dbb-41da-a056-7043de3de97d"
      },
      "source": [
        "!ls"
      ],
      "execution_count": 8,
      "outputs": [
        {
          "output_type": "stream",
          "text": [
            "3rdparty      cmake\t\t      image_yolov2.sh\t     obj\n",
            "appveyor.yml  CMakeLists.txt\t      image_yolov3.sh\t     README.md\n",
            "backup\t      darknet\t\t      include\t\t     results\n",
            "build\t      DarknetConfig.cmake.in  json_mjpeg_streams.sh  scripts\n",
            "build.ps1     darknet.py\t      LICENSE\t\t     src\n",
            "build.sh      darknet_video.py\t      Makefile\t\t     video_v2.sh\n",
            "cfg\t      data\t\t      net_cam_v3.sh\t     video_yolov3.sh\n"
          ],
          "name": "stdout"
        }
      ]
    },
    {
      "cell_type": "code",
      "metadata": {
        "id": "Rxqp07UmVQxB",
        "colab_type": "code",
        "colab": {
          "base_uri": "https://localhost:8080/",
          "height": 33
        },
        "outputId": "4097846a-6c8f-4e8b-c2c1-d23c32af0857"
      },
      "source": [
        "! ./darknet"
      ],
      "execution_count": 9,
      "outputs": [
        {
          "output_type": "stream",
          "text": [
            "usage: ./darknet <function>\n"
          ],
          "name": "stdout"
        }
      ]
    },
    {
      "cell_type": "code",
      "metadata": {
        "id": "1ZVVxZgtjNJI",
        "colab_type": "code",
        "colab": {
          "base_uri": "https://localhost:8080/",
          "height": 201
        },
        "outputId": "d01b4726-5c1c-4d9a-aea5-9d6a7b40d5b1"
      },
      "source": [
        "!wget https://pjreddie.com/media/files/darknet19_448.conv.23"
      ],
      "execution_count": 10,
      "outputs": [
        {
          "output_type": "stream",
          "text": [
            "--2019-11-12 12:43:27--  https://pjreddie.com/media/files/darknet19_448.conv.23\n",
            "Resolving pjreddie.com (pjreddie.com)... 128.208.4.108\n",
            "Connecting to pjreddie.com (pjreddie.com)|128.208.4.108|:443... connected.\n",
            "HTTP request sent, awaiting response... 200 OK\n",
            "Length: 79327120 (76M) [application/octet-stream]\n",
            "Saving to: ‘darknet19_448.conv.23’\n",
            "\n",
            "darknet19_448.conv. 100%[===================>]  75.65M  22.5MB/s    in 4.0s    \n",
            "\n",
            "2019-11-12 12:43:32 (18.7 MB/s) - ‘darknet19_448.conv.23’ saved [79327120/79327120]\n",
            "\n"
          ],
          "name": "stdout"
        }
      ]
    },
    {
      "cell_type": "code",
      "metadata": {
        "id": "RkGfWKmPwMwP",
        "colab_type": "code",
        "colab": {}
      },
      "source": [
        "os.chdir('/')"
      ],
      "execution_count": 0,
      "outputs": []
    },
    {
      "cell_type": "code",
      "metadata": {
        "id": "BAggmcLJjcbl",
        "colab_type": "code",
        "colab": {}
      },
      "source": [
        "!cp -r /content/Vehical_parts_detection/RenaultKwidImages /content/darknet\n",
        "!cp /content/Vehical_parts_detection/train.txt /content/darknet\n",
        "!cp /content/Vehical_parts_detection/test.txt /content/darknet\n",
        "!cp /content/Vehical_parts_detection/obj.names /content/darknet\n",
        "!cp /content/Vehical_parts_detection/obj.data /content/darknet\n",
        "!cp /content/Vehical_parts_detection/yolo-voc.2.0.cfg /content/darknet\n",
        "!cp /content/Vehical_parts_detection/Makefile /content/darknet"
      ],
      "execution_count": 0,
      "outputs": []
    },
    {
      "cell_type": "code",
      "metadata": {
        "id": "w5zR5Bt8vCoz",
        "colab_type": "code",
        "colab": {}
      },
      "source": [
        "os.chdir('/content/darknet')"
      ],
      "execution_count": 0,
      "outputs": []
    },
    {
      "cell_type": "code",
      "metadata": {
        "id": "DV0oWZZ_wrwL",
        "colab_type": "code",
        "colab": {
          "base_uri": "https://localhost:8080/",
          "height": 100
        },
        "outputId": "87dfd433-bf06-41c3-8403-bc3d6b51f89b"
      },
      "source": [
        "cat /content/Vehical_parts_detection/obj.data"
      ],
      "execution_count": 14,
      "outputs": [
        {
          "output_type": "stream",
          "text": [
            "classes= 4\n",
            "train  = train.txt  \n",
            "valid  = test.txt  \n",
            "names = obj.names  \n",
            "backup = backup/"
          ],
          "name": "stdout"
        }
      ]
    },
    {
      "cell_type": "code",
      "metadata": {
        "id": "oTZMdRqPwxyE",
        "colab_type": "code",
        "colab": {
          "base_uri": "https://localhost:8080/",
          "height": 1000
        },
        "outputId": "ac9129e5-9161-4524-dce8-aa002fe597fc"
      },
      "source": [
        "cat /content/Vehical_parts_detection/yolo-voc.2.0.cfg"
      ],
      "execution_count": 15,
      "outputs": [
        {
          "output_type": "stream",
          "text": [
            "[net]\n",
            "batch=64\n",
            "subdivisions=8\n",
            "height=416\n",
            "width=416\n",
            "channels=3\n",
            "momentum=0.9\n",
            "decay=0.0005\n",
            "angle=0\n",
            "saturation = 1.5\n",
            "exposure = 1.5\n",
            "hue=.1\n",
            "\n",
            "learning_rate=0.0001\n",
            "max_batches = 45000\n",
            "policy=steps\n",
            "steps=100,25000,35000\n",
            "scales=10,.1,.1\n",
            "\n",
            "[convolutional]\n",
            "batch_normalize=1\n",
            "filters=32\n",
            "size=3\n",
            "stride=1\n",
            "pad=1\n",
            "activation=leaky\n",
            "\n",
            "[maxpool]\n",
            "size=2\n",
            "stride=2\n",
            "\n",
            "[convolutional]\n",
            "batch_normalize=1\n",
            "filters=64\n",
            "size=3\n",
            "stride=1\n",
            "pad=1\n",
            "activation=leaky\n",
            "\n",
            "[maxpool]\n",
            "size=2\n",
            "stride=2\n",
            "\n",
            "[convolutional]\n",
            "batch_normalize=1\n",
            "filters=128\n",
            "size=3\n",
            "stride=1\n",
            "pad=1\n",
            "activation=leaky\n",
            "\n",
            "[convolutional]\n",
            "batch_normalize=1\n",
            "filters=64\n",
            "size=1\n",
            "stride=1\n",
            "pad=1\n",
            "activation=leaky\n",
            "\n",
            "[convolutional]\n",
            "batch_normalize=1\n",
            "filters=128\n",
            "size=3\n",
            "stride=1\n",
            "pad=1\n",
            "activation=leaky\n",
            "\n",
            "[maxpool]\n",
            "size=2\n",
            "stride=2\n",
            "\n",
            "[convolutional]\n",
            "batch_normalize=1\n",
            "filters=256\n",
            "size=3\n",
            "stride=1\n",
            "pad=1\n",
            "activation=leaky\n",
            "\n",
            "[convolutional]\n",
            "batch_normalize=1\n",
            "filters=128\n",
            "size=1\n",
            "stride=1\n",
            "pad=1\n",
            "activation=leaky\n",
            "\n",
            "[convolutional]\n",
            "batch_normalize=1\n",
            "filters=256\n",
            "size=3\n",
            "stride=1\n",
            "pad=1\n",
            "activation=leaky\n",
            "\n",
            "[maxpool]\n",
            "size=2\n",
            "stride=2\n",
            "\n",
            "[convolutional]\n",
            "batch_normalize=1\n",
            "filters=512\n",
            "size=3\n",
            "stride=1\n",
            "pad=1\n",
            "activation=leaky\n",
            "\n",
            "[convolutional]\n",
            "batch_normalize=1\n",
            "filters=256\n",
            "size=1\n",
            "stride=1\n",
            "pad=1\n",
            "activation=leaky\n",
            "\n",
            "[convolutional]\n",
            "batch_normalize=1\n",
            "filters=512\n",
            "size=3\n",
            "stride=1\n",
            "pad=1\n",
            "activation=leaky\n",
            "\n",
            "[convolutional]\n",
            "batch_normalize=1\n",
            "filters=256\n",
            "size=1\n",
            "stride=1\n",
            "pad=1\n",
            "activation=leaky\n",
            "\n",
            "[convolutional]\n",
            "batch_normalize=1\n",
            "filters=512\n",
            "size=3\n",
            "stride=1\n",
            "pad=1\n",
            "activation=leaky\n",
            "\n",
            "[maxpool]\n",
            "size=2\n",
            "stride=2\n",
            "\n",
            "[convolutional]\n",
            "batch_normalize=1\n",
            "filters=1024\n",
            "size=3\n",
            "stride=1\n",
            "pad=1\n",
            "activation=leaky\n",
            "\n",
            "[convolutional]\n",
            "batch_normalize=1\n",
            "filters=512\n",
            "size=1\n",
            "stride=1\n",
            "pad=1\n",
            "activation=leaky\n",
            "\n",
            "[convolutional]\n",
            "batch_normalize=1\n",
            "filters=1024\n",
            "size=3\n",
            "stride=1\n",
            "pad=1\n",
            "activation=leaky\n",
            "\n",
            "[convolutional]\n",
            "batch_normalize=1\n",
            "filters=512\n",
            "size=1\n",
            "stride=1\n",
            "pad=1\n",
            "activation=leaky\n",
            "\n",
            "[convolutional]\n",
            "batch_normalize=1\n",
            "filters=1024\n",
            "size=3\n",
            "stride=1\n",
            "pad=1\n",
            "activation=leaky\n",
            "\n",
            "\n",
            "#######\n",
            "\n",
            "[convolutional]\n",
            "batch_normalize=1\n",
            "size=3\n",
            "stride=1\n",
            "pad=1\n",
            "filters=1024\n",
            "activation=leaky\n",
            "\n",
            "[convolutional]\n",
            "batch_normalize=1\n",
            "size=3\n",
            "stride=1\n",
            "pad=1\n",
            "filters=1024\n",
            "activation=leaky\n",
            "\n",
            "[route]\n",
            "layers=-9\n",
            "\n",
            "[reorg]\n",
            "stride=2\n",
            "\n",
            "[route]\n",
            "layers=-1,-3\n",
            "\n",
            "[convolutional]\n",
            "batch_normalize=1\n",
            "size=3\n",
            "stride=1\n",
            "pad=1\n",
            "filters=1024\n",
            "activation=leaky\n",
            "\n",
            "[convolutional]\n",
            "size=1\n",
            "stride=1\n",
            "pad=1\n",
            "filters=45\n",
            "activation=linear\n",
            "\n",
            "[region]\n",
            "anchors = 1.08,1.19,  3.42,4.41,  6.63,11.38,  9.42,5.11,  16.62,10.52\n",
            "bias_match=1\n",
            "classes=4\n",
            "coords=4\n",
            "num=5\n",
            "softmax=1\n",
            "jitter=.2\n",
            "rescore=1\n",
            "\n",
            "object_scale=5\n",
            "noobject_scale=1\n",
            "class_scale=1\n",
            "coord_scale=1\n",
            "\n",
            "absolute=1\n",
            "thresh = .6\n",
            "random=0\n"
          ],
          "name": "stdout"
        }
      ]
    },
    {
      "cell_type": "code",
      "metadata": {
        "id": "89x1RKPVjqTc",
        "colab_type": "code",
        "colab": {
          "base_uri": "https://localhost:8080/",
          "height": 1000
        },
        "outputId": "460c2916-7131-458d-f966-480962c3ad6b"
      },
      "source": [
        "!./darknet detector train /content/darknet/obj.data /content/darknet/yolo-voc.2.0.cfg darknet19_448.conv.23"
      ],
      "execution_count": 0,
      "outputs": [
        {
          "output_type": "stream",
          "text": [
            "yolo-voc\n",
            "   layer   filters  size/strd(dil)      input                output\n",
            "   0 conv     32       3 x 3/ 1    416 x 416 x   3 ->  416 x 416 x  32 0.299 BF\n",
            "   1 max                2x 2/ 2    416 x 416 x  32 ->  208 x 208 x  32 0.006 BF\n",
            "   2 conv     64       3 x 3/ 1    208 x 208 x  32 ->  208 x 208 x  64 1.595 BF\n",
            "   3 max                2x 2/ 2    208 x 208 x  64 ->  104 x 104 x  64 0.003 BF\n",
            "   4 conv    128       3 x 3/ 1    104 x 104 x  64 ->  104 x 104 x 128 1.595 BF\n",
            "   5 conv     64       1 x 1/ 1    104 x 104 x 128 ->  104 x 104 x  64 0.177 BF\n",
            "   6 conv    128       3 x 3/ 1    104 x 104 x  64 ->  104 x 104 x 128 1.595 BF\n",
            "   7 max                2x 2/ 2    104 x 104 x 128 ->   52 x  52 x 128 0.001 BF\n",
            "   8 conv    256       3 x 3/ 1     52 x  52 x 128 ->   52 x  52 x 256 1.595 BF\n",
            "   9 conv    128       1 x 1/ 1     52 x  52 x 256 ->   52 x  52 x 128 0.177 BF\n",
            "  10 conv    256       3 x 3/ 1     52 x  52 x 128 ->   52 x  52 x 256 1.595 BF\n",
            "  11 max                2x 2/ 2     52 x  52 x 256 ->   26 x  26 x 256 0.001 BF\n",
            "  12 conv    512       3 x 3/ 1     26 x  26 x 256 ->   26 x  26 x 512 1.595 BF\n",
            "  13 conv    256       1 x 1/ 1     26 x  26 x 512 ->   26 x  26 x 256 0.177 BF\n",
            "  14 conv    512       3 x 3/ 1     26 x  26 x 256 ->   26 x  26 x 512 1.595 BF\n",
            "  15 conv    256       1 x 1/ 1     26 x  26 x 512 ->   26 x  26 x 256 0.177 BF\n",
            "  16 conv    512       3 x 3/ 1     26 x  26 x 256 ->   26 x  26 x 512 1.595 BF\n",
            "  17 max                2x 2/ 2     26 x  26 x 512 ->   13 x  13 x 512 0.000 BF\n",
            "  18 conv   1024       3 x 3/ 1     13 x  13 x 512 ->   13 x  13 x1024 1.595 BF\n",
            "  19 conv    512       1 x 1/ 1     13 x  13 x1024 ->   13 x  13 x 512 0.177 BF\n",
            "  20 conv   1024       3 x 3/ 1     13 x  13 x 512 ->   13 x  13 x1024 1.595 BF\n",
            "  21 conv    512       1 x 1/ 1     13 x  13 x1024 ->   13 x  13 x 512 0.177 BF\n",
            "  22 conv   1024       3 x 3/ 1     13 x  13 x 512 ->   13 x  13 x1024 1.595 BF\n",
            "  23 conv   1024       3 x 3/ 1     13 x  13 x1024 ->   13 x  13 x1024 3.190 BF\n",
            "  24 conv   1024       3 x 3/ 1     13 x  13 x1024 ->   13 x  13 x1024 3.190 BF\n",
            "  25 route  16 \t\t                           ->   26 x  26 x 512 \n",
            "  26 \n",
            " reorg_old \n",
            "reorg_old              / 2    26 x  26 x 512   ->    13 x  13 x2048\n",
            "  27 route  26 24 \t                           ->   26 x  26 x3072 \n",
            "  28 conv   1024       3 x 3/ 1     13 x  13 x3072 ->   13 x  13 x1024 9.569 BF\n",
            "  29 conv     45       1 x 1/ 1     13 x  13 x1024 ->   13 x  13 x  45 0.016 BF\n",
            "  30 detection\n",
            "mask_scale: Using default '1.000000'\n",
            "Total BFLOPS 34.881 \n",
            "Loading weights from darknet19_448.conv.23...\n",
            " seen 32 \n",
            "Done! Loaded 23 layers from weights-file \n",
            "Learning Rate: 0.0001, Momentum: 0.9, Decay: 0.0005\n",
            "Loaded: 2.760155 seconds\n",
            "Region Avg IOU: 0.240651, Class: 0.236221, Obj: 0.391705, No Obj: 0.467299, Avg Recall: 0.073171,  count: 41\n",
            "Region Avg IOU: 0.237341, Class: 0.274968, Obj: 0.365494, No Obj: 0.467413, Avg Recall: 0.086957,  count: 46\n",
            "Region Avg IOU: 0.273453, Class: 0.256228, Obj: 0.411300, No Obj: 0.466244, Avg Recall: 0.106383,  count: 47\n",
            "Region Avg IOU: 0.244142, Class: 0.219412, Obj: 0.406285, No Obj: 0.467256, Avg Recall: 0.068182,  count: 44\n",
            "Region Avg IOU: 0.274211, Class: 0.255949, Obj: 0.379131, No Obj: 0.465570, Avg Recall: 0.136364,  count: 44\n",
            "Region Avg IOU: 0.236260, Class: 0.257301, Obj: 0.425863, No Obj: 0.466675, Avg Recall: 0.106383,  count: 47\n",
            "Region Avg IOU: 0.252620, Class: 0.264683, Obj: 0.394925, No Obj: 0.466956, Avg Recall: 0.073171,  count: 41\n",
            "Region Avg IOU: 0.256445, Class: 0.224534, Obj: 0.411476, No Obj: 0.466821, Avg Recall: 0.108696,  count: 46\n",
            "\n",
            " 1: 23.252712, 23.252712 avg loss, 0.000100 rate, 1101.456030 seconds, 64 images\n",
            "Loaded: 0.000080 seconds\n",
            "Region Avg IOU: 0.252674, Class: 0.284534, Obj: 0.396473, No Obj: 0.413606, Avg Recall: 0.090909,  count: 44\n",
            "Region Avg IOU: 0.214061, Class: 0.257933, Obj: 0.341342, No Obj: 0.414244, Avg Recall: 0.071429,  count: 42\n",
            "Region Avg IOU: 0.257435, Class: 0.281061, Obj: 0.359155, No Obj: 0.414576, Avg Recall: 0.078947,  count: 38\n",
            "Region Avg IOU: 0.252034, Class: 0.294891, Obj: 0.306970, No Obj: 0.414364, Avg Recall: 0.025000,  count: 40\n",
            "Region Avg IOU: 0.234256, Class: 0.289340, Obj: 0.340787, No Obj: 0.413908, Avg Recall: 0.022222,  count: 45\n",
            "Region Avg IOU: 0.269431, Class: 0.266732, Obj: 0.363805, No Obj: 0.414241, Avg Recall: 0.083333,  count: 48\n",
            "Region Avg IOU: 0.244574, Class: 0.270273, Obj: 0.335200, No Obj: 0.413569, Avg Recall: 0.075000,  count: 40\n"
          ],
          "name": "stdout"
        }
      ]
    },
    {
      "cell_type": "code",
      "metadata": {
        "id": "bTpl5z62dsnJ",
        "colab_type": "code",
        "colab": {}
      },
      "source": [
        "cat /content/darknet/Makefile"
      ],
      "execution_count": 0,
      "outputs": []
    }
  ]
}