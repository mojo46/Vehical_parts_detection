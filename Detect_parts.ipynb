{
  "nbformat": 4,
  "nbformat_minor": 0,
  "metadata": {
    "colab": {
      "name": "Detect_parts.ipynb",
      "provenance": [],
      "include_colab_link": true
    },
    "kernelspec": {
      "name": "python3",
      "display_name": "Python 3"
    },
    "accelerator": "GPU"
  },
  "cells": [
    {
      "cell_type": "markdown",
      "metadata": {
        "id": "view-in-github",
        "colab_type": "text"
      },
      "source": [
        "<a href=\"https://colab.research.google.com/github/mojo46/Vehical_parts_detection/blob/master/Detect_parts.ipynb\" target=\"_parent\"><img src=\"https://colab.research.google.com/assets/colab-badge.svg\" alt=\"Open In Colab\"/></a>"
      ]
    },
    {
      "cell_type": "code",
      "metadata": {
        "id": "3BlHoizYTXXj",
        "colab_type": "code",
        "colab": {
          "base_uri": "https://localhost:8080/",
          "height": 100
        },
        "outputId": "d8d8705b-548a-4e1b-ea73-0b5121a1ee2e"
      },
      "source": [
        "!git clone https://github.com/AlexeyAB/darknet.git"
      ],
      "execution_count": 1,
      "outputs": [
        {
          "output_type": "stream",
          "text": [
            "Cloning into 'darknet'...\n",
            "remote: Enumerating objects: 11085, done.\u001b[K\n",
            "remote: Total 11085 (delta 0), reused 0 (delta 0), pack-reused 11085\u001b[K\n",
            "Receiving objects: 100% (11085/11085), 10.71 MiB | 11.38 MiB/s, done.\n",
            "Resolving deltas: 100% (7462/7462), done.\n"
          ],
          "name": "stdout"
        }
      ]
    },
    {
      "cell_type": "markdown",
      "metadata": {
        "id": "E0MzZgF8T6uA",
        "colab_type": "text"
      },
      "source": [
        "Clone Labeled Data"
      ]
    },
    {
      "cell_type": "code",
      "metadata": {
        "id": "VlCC6qIvUGS2",
        "colab_type": "code",
        "colab": {
          "base_uri": "https://localhost:8080/",
          "height": 134
        },
        "outputId": "cb6141a7-c1b8-4db3-d6a8-b16e3d569ce4"
      },
      "source": [
        "!git clone https://github.com/mojo46/Vehical_parts_detection.git"
      ],
      "execution_count": 2,
      "outputs": [
        {
          "output_type": "stream",
          "text": [
            "Cloning into 'Vehical_parts_detection'...\n",
            "remote: Enumerating objects: 24, done.\u001b[K\n",
            "remote: Counting objects:   4% (1/24)\u001b[K\rremote: Counting objects:   8% (2/24)\u001b[K\rremote: Counting objects:  12% (3/24)\u001b[K\rremote: Counting objects:  16% (4/24)\u001b[K\rremote: Counting objects:  20% (5/24)\u001b[K\rremote: Counting objects:  25% (6/24)\u001b[K\rremote: Counting objects:  29% (7/24)\u001b[K\rremote: Counting objects:  33% (8/24)\u001b[K\rremote: Counting objects:  37% (9/24)\u001b[K\rremote: Counting objects:  41% (10/24)\u001b[K\rremote: Counting objects:  45% (11/24)\u001b[K\rremote: Counting objects:  50% (12/24)\u001b[K\rremote: Counting objects:  54% (13/24)\u001b[K\rremote: Counting objects:  58% (14/24)\u001b[K\rremote: Counting objects:  62% (15/24)\u001b[K\rremote: Counting objects:  66% (16/24)\u001b[K\rremote: Counting objects:  70% (17/24)\u001b[K\rremote: Counting objects:  75% (18/24)\u001b[K\rremote: Counting objects:  79% (19/24)\u001b[K\rremote: Counting objects:  83% (20/24)\u001b[K\rremote: Counting objects:  87% (21/24)\u001b[K\rremote: Counting objects:  91% (22/24)\u001b[K\rremote: Counting objects:  95% (23/24)\u001b[K\rremote: Counting objects: 100% (24/24)\u001b[K\rremote: Counting objects: 100% (24/24), done.\u001b[K\n",
            "remote: Compressing objects: 100% (14/14), done.\u001b[K\n",
            "remote: Total 646 (delta 8), reused 23 (delta 8), pack-reused 622\u001b[K\n",
            "Receiving objects: 100% (646/646), 50.31 MiB | 23.08 MiB/s, done.\n",
            "Resolving deltas: 100% (45/45), done.\n"
          ],
          "name": "stdout"
        }
      ]
    },
    {
      "cell_type": "code",
      "metadata": {
        "id": "zBvC_tLSU7yI",
        "colab_type": "code",
        "colab": {}
      },
      "source": [
        "import os\n",
        "os.chdir('/content/darknet')"
      ],
      "execution_count": 0,
      "outputs": []
    },
    {
      "cell_type": "code",
      "metadata": {
        "id": "UHDYDyA9VF-g",
        "colab_type": "code",
        "colab": {}
      },
      "source": [
        "!make"
      ],
      "execution_count": 0,
      "outputs": []
    },
    {
      "cell_type": "code",
      "metadata": {
        "id": "dbITP0a6VMVx",
        "colab_type": "code",
        "colab": {}
      },
      "source": [
        "!ls"
      ],
      "execution_count": 0,
      "outputs": []
    },
    {
      "cell_type": "code",
      "metadata": {
        "id": "Rxqp07UmVQxB",
        "colab_type": "code",
        "colab": {}
      },
      "source": [
        "! ./darknet"
      ],
      "execution_count": 0,
      "outputs": []
    },
    {
      "cell_type": "code",
      "metadata": {
        "id": "1ZVVxZgtjNJI",
        "colab_type": "code",
        "colab": {}
      },
      "source": [
        "!wget https://pjreddie.com/media/files/darknet19_448.conv.23"
      ],
      "execution_count": 0,
      "outputs": []
    },
    {
      "cell_type": "code",
      "metadata": {
        "id": "RkGfWKmPwMwP",
        "colab_type": "code",
        "colab": {}
      },
      "source": [
        "os.chdir('/')"
      ],
      "execution_count": 0,
      "outputs": []
    },
    {
      "cell_type": "code",
      "metadata": {
        "id": "BAggmcLJjcbl",
        "colab_type": "code",
        "colab": {}
      },
      "source": [
        "os.chdir('/')\n",
        "!cp -r /content/Vehical_parts_detection/RenaultKwidImages /content/darknet\n",
        "!cp /content/Vehical_parts_detection/train.txt /content/darknet\n",
        "!cp /content/Vehical_parts_detection/test.txt /content/darknet"
      ],
      "execution_count": 0,
      "outputs": []
    },
    {
      "cell_type": "code",
      "metadata": {
        "id": "08AhBs_2w8d0",
        "colab_type": "code",
        "colab": {}
      },
      "source": [
        "!cp /content/Vehical_parts_detection/obj.names /content/darknet"
      ],
      "execution_count": 0,
      "outputs": []
    },
    {
      "cell_type": "code",
      "metadata": {
        "id": "w5zR5Bt8vCoz",
        "colab_type": "code",
        "colab": {}
      },
      "source": [
        "os.chdir('/content/darknet')"
      ],
      "execution_count": 0,
      "outputs": []
    },
    {
      "cell_type": "code",
      "metadata": {
        "id": "DV0oWZZ_wrwL",
        "colab_type": "code",
        "colab": {
          "base_uri": "https://localhost:8080/",
          "height": 100
        },
        "outputId": "1d9970c5-7c1d-4328-b393-10508d9feeb0"
      },
      "source": [
        "cat /content/Vehical_parts_detection/obj.data"
      ],
      "execution_count": 26,
      "outputs": [
        {
          "output_type": "stream",
          "text": [
            "classes= 4\n",
            "train  = train.txt  \n",
            "valid  = test.txt  \n",
            "names = obj.names  \n",
            "backup = backup/"
          ],
          "name": "stdout"
        }
      ]
    },
    {
      "cell_type": "code",
      "metadata": {
        "id": "oTZMdRqPwxyE",
        "colab_type": "code",
        "colab": {
          "base_uri": "https://localhost:8080/",
          "height": 84
        },
        "outputId": "76025c1b-05b5-4261-de74-6478d9011c0c"
      },
      "source": [
        "cat obj.names"
      ],
      "execution_count": 28,
      "outputs": [
        {
          "output_type": "stream",
          "text": [
            "mirror\n",
            "wheel\n",
            "handel\n",
            "dacal_tape"
          ],
          "name": "stdout"
        }
      ]
    },
    {
      "cell_type": "code",
      "metadata": {
        "id": "89x1RKPVjqTc",
        "colab_type": "code",
        "colab": {}
      },
      "source": [
        "!./darknet detector train /content/Vehical_parts_detection/obj.data /content/Vehical_parts_detection/yolo-voc.2.0.cfg darknet19_448.conv.23 -dont_show 0"
      ],
      "execution_count": 0,
      "outputs": []
    },
    {
      "cell_type": "code",
      "metadata": {
        "id": "eugd0pQljNnZ",
        "colab_type": "code",
        "colab": {}
      },
      "source": [
        "os.chdir('/content/darknet')"
      ],
      "execution_count": 0,
      "outputs": []
    },
    {
      "cell_type": "code",
      "metadata": {
        "id": "i7glUp2XjylT",
        "colab_type": "code",
        "colab": {
          "base_uri": "https://localhost:8080/",
          "height": 33
        },
        "outputId": "5671fd6f-6082-403b-b7aa-08af2acb3468"
      },
      "source": [
        "!cat cfg/obj.data"
      ],
      "execution_count": 51,
      "outputs": [
        {
          "output_type": "stream",
          "text": [
            "cat: cfg/obj.data: No such file or directory\n"
          ],
          "name": "stdout"
        }
      ]
    },
    {
      "cell_type": "code",
      "metadata": {
        "id": "sFHVhxEWYCCm",
        "colab_type": "code",
        "colab": {
          "base_uri": "https://localhost:8080/",
          "height": 33
        },
        "outputId": "51766680-82ed-4ecc-d3c8-fbdbfa4bb725"
      },
      "source": [
        "backpath = !pwd\n",
        "!pwd"
      ],
      "execution_count": 12,
      "outputs": [
        {
          "output_type": "stream",
          "text": [
            "/content/darknet\n"
          ],
          "name": "stdout"
        }
      ]
    },
    {
      "cell_type": "code",
      "metadata": {
        "id": "snvjBmM7VRXD",
        "colab_type": "code",
        "colab": {
          "base_uri": "https://localhost:8080/",
          "height": 128
        },
        "outputId": "8aba5146-fe1a-4fc0-bb05-bad62dd1aec2"
      },
      "source": [
        "# create files \n",
        "cd /Vehical_parts_detection/'\n",
        "!pwd"
      ],
      "execution_count": 24,
      "outputs": [
        {
          "output_type": "error",
          "ename": "SyntaxError",
          "evalue": "ignored",
          "traceback": [
            "\u001b[0;36m  File \u001b[0;32m\"<ipython-input-24-d9d490b92239>\"\u001b[0;36m, line \u001b[0;32m1\u001b[0m\n\u001b[0;31m    cd '/Vehical_parts_detection/'\u001b[0m\n\u001b[0m                                 ^\u001b[0m\n\u001b[0;31mSyntaxError\u001b[0m\u001b[0;31m:\u001b[0m invalid syntax\n"
          ]
        }
      ]
    },
    {
      "cell_type": "code",
      "metadata": {
        "id": "wlga7Qk0YmTl",
        "colab_type": "code",
        "colab": {
          "base_uri": "https://localhost:8080/",
          "height": 33
        },
        "outputId": "147572ad-75af-41fd-b566-71a5fad0e842"
      },
      "source": [
        "cd /content/Vehical_parts_detection"
      ],
      "execution_count": 29,
      "outputs": [
        {
          "output_type": "stream",
          "text": [
            "/content/Vehical_parts_detection\n"
          ],
          "name": "stdout"
        }
      ]
    },
    {
      "cell_type": "code",
      "metadata": {
        "id": "gWt0xA_pdoFY",
        "colab_type": "code",
        "colab": {}
      },
      "source": [
        "import os\n",
        "path = os.getcwd()"
      ],
      "execution_count": 0,
      "outputs": []
    },
    {
      "cell_type": "code",
      "metadata": {
        "id": "TyNZeQmJeBe6",
        "colab_type": "code",
        "colab": {}
      },
      "source": [
        "path = '/content/Vehical_parts_detection'"
      ],
      "execution_count": 0,
      "outputs": []
    },
    {
      "cell_type": "code",
      "metadata": {
        "id": "xhBrQpR5iPN8",
        "colab_type": "code",
        "colab": {}
      },
      "source": [
        "os.chdir(path)"
      ],
      "execution_count": 0,
      "outputs": []
    },
    {
      "cell_type": "code",
      "metadata": {
        "id": "8-tL4ZgTiu1v",
        "colab_type": "code",
        "colab": {
          "base_uri": "https://localhost:8080/",
          "height": 33
        },
        "outputId": "c6d2d740-804e-43ba-f1e9-718e012ce0bd"
      },
      "source": [
        "pwd"
      ],
      "execution_count": 8,
      "outputs": [
        {
          "output_type": "execute_result",
          "data": {
            "text/plain": [
              "'/content/Vehical_parts_detection'"
            ]
          },
          "metadata": {
            "tags": []
          },
          "execution_count": 8
        }
      ]
    },
    {
      "cell_type": "code",
      "metadata": {
        "id": "YIMRB9GrYYOU",
        "colab_type": "code",
        "colab": {}
      },
      "source": [
        "! > obj.data\n",
        "! > obj.names\n",
        "! > test.txt\n",
        "! > train.txt"
      ],
      "execution_count": 0,
      "outputs": []
    },
    {
      "cell_type": "code",
      "metadata": {
        "id": "D0Xm3MGToKmx",
        "colab_type": "code",
        "colab": {}
      },
      "source": [
        "os.chdir(\"/content/darknet/cfg/\")"
      ],
      "execution_count": 0,
      "outputs": []
    },
    {
      "cell_type": "code",
      "metadata": {
        "id": "3zimCakNoPVU",
        "colab_type": "code",
        "colab": {}
      },
      "source": [
        "cat yolov2-voc.cfg"
      ],
      "execution_count": 0,
      "outputs": []
    }
  ]
}