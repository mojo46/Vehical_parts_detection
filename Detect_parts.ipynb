{
  "nbformat": 4,
  "nbformat_minor": 0,
  "metadata": {
    "colab": {
      "name": "Detect_parts.ipynb",
      "provenance": [],
      "include_colab_link": true
    },
    "kernelspec": {
      "name": "python3",
      "display_name": "Python 3"
    },
    "accelerator": "GPU"
  },
  "cells": [
    {
      "cell_type": "markdown",
      "metadata": {
        "id": "view-in-github",
        "colab_type": "text"
      },
      "source": [
        "<a href=\"https://colab.research.google.com/github/mojo46/Vehical_parts_detection/blob/master/Detect_parts.ipynb\" target=\"_parent\"><img src=\"https://colab.research.google.com/assets/colab-badge.svg\" alt=\"Open In Colab\"/></a>"
      ]
    },
    {
      "cell_type": "code",
      "metadata": {
        "id": "3BlHoizYTXXj",
        "colab_type": "code",
        "outputId": "85217112-6e9e-438e-f696-a76d18163e5b",
        "colab": {
          "base_uri": "https://localhost:8080/",
          "height": 134
        }
      },
      "source": [
        "!git clone https://github.com/AlexeyAB/darknet.git"
      ],
      "execution_count": 0,
      "outputs": [
        {
          "output_type": "stream",
          "text": [
            "Cloning into 'darknet'...\n",
            "remote: Enumerating objects: 22, done.\u001b[K\n",
            "remote: Counting objects: 100% (22/22), done.\u001b[K\n",
            "remote: Compressing objects: 100% (16/16), done.\u001b[K\n",
            "remote: Total 11112 (delta 8), reused 11 (delta 6), pack-reused 11090\u001b[K\n",
            "Receiving objects: 100% (11112/11112), 10.76 MiB | 7.27 MiB/s, done.\n",
            "Resolving deltas: 100% (7472/7472), done.\n"
          ],
          "name": "stdout"
        }
      ]
    },
    {
      "cell_type": "markdown",
      "metadata": {
        "id": "E0MzZgF8T6uA",
        "colab_type": "text"
      },
      "source": [
        "Clone Labeled Data"
      ]
    },
    {
      "cell_type": "code",
      "metadata": {
        "id": "VlCC6qIvUGS2",
        "colab_type": "code",
        "outputId": "5225c51c-2ca1-48e9-b5ce-b34589747467",
        "colab": {
          "base_uri": "https://localhost:8080/",
          "height": 134
        }
      },
      "source": [
        "!git clone https://github.com/mojo46/Vehical_parts_detection.git"
      ],
      "execution_count": 0,
      "outputs": [
        {
          "output_type": "stream",
          "text": [
            "Cloning into 'Vehical_parts_detection'...\n",
            "remote: Enumerating objects: 75, done.\u001b[K\n",
            "remote: Counting objects:   1% (1/75)\u001b[K\rremote: Counting objects:   2% (2/75)\u001b[K\rremote: Counting objects:   4% (3/75)\u001b[K\rremote: Counting objects:   5% (4/75)\u001b[K\rremote: Counting objects:   6% (5/75)\u001b[K\rremote: Counting objects:   8% (6/75)\u001b[K\rremote: Counting objects:   9% (7/75)\u001b[K\rremote: Counting objects:  10% (8/75)\u001b[K\rremote: Counting objects:  12% (9/75)\u001b[K\rremote: Counting objects:  13% (10/75)\u001b[K\rremote: Counting objects:  14% (11/75)\u001b[K\rremote: Counting objects:  16% (12/75)\u001b[K\rremote: Counting objects:  17% (13/75)\u001b[K\rremote: Counting objects:  18% (14/75)\u001b[K\rremote: Counting objects:  20% (15/75)\u001b[K\rremote: Counting objects:  21% (16/75)\u001b[K\rremote: Counting objects:  22% (17/75)\u001b[K\rremote: Counting objects:  24% (18/75)\u001b[K\rremote: Counting objects:  25% (19/75)\u001b[K\rremote: Counting objects:  26% (20/75)\u001b[K\rremote: Counting objects:  28% (21/75)\u001b[K\rremote: Counting objects:  29% (22/75)\u001b[K\rremote: Counting objects:  30% (23/75)\u001b[K\rremote: Counting objects:  32% (24/75)\u001b[K\rremote: Counting objects:  33% (25/75)\u001b[K\rremote: Counting objects:  34% (26/75)\u001b[K\rremote: Counting objects:  36% (27/75)\u001b[K\rremote: Counting objects:  37% (28/75)\u001b[K\rremote: Counting objects:  38% (29/75)\u001b[K\rremote: Counting objects:  40% (30/75)\u001b[K\rremote: Counting objects:  41% (31/75)\u001b[K\rremote: Counting objects:  42% (32/75)\u001b[K\rremote: Counting objects:  44% (33/75)\u001b[K\rremote: Counting objects:  45% (34/75)\u001b[K\rremote: Counting objects:  46% (35/75)\u001b[K\rremote: Counting objects:  48% (36/75)\u001b[K\rremote: Counting objects:  49% (37/75)\u001b[K\rremote: Counting objects:  50% (38/75)\u001b[K\rremote: Counting objects:  52% (39/75)\u001b[K\rremote: Counting objects:  53% (40/75)\u001b[K\rremote: Counting objects:  54% (41/75)\u001b[K\rremote: Counting objects:  56% (42/75)\u001b[K\rremote: Counting objects:  57% (43/75)\u001b[K\rremote: Counting objects:  58% (44/75)\u001b[K\rremote: Counting objects:  60% (45/75)\u001b[K\rremote: Counting objects:  61% (46/75)\u001b[K\rremote: Counting objects:  62% (47/75)\u001b[K\rremote: Counting objects:  64% (48/75)\u001b[K\rremote: Counting objects:  65% (49/75)\u001b[K\rremote: Counting objects:  66% (50/75)\u001b[K\rremote: Counting objects:  68% (51/75)\u001b[K\rremote: Counting objects:  69% (52/75)\u001b[K\rremote: Counting objects:  70% (53/75)\u001b[K\rremote: Counting objects:  72% (54/75)\u001b[K\rremote: Counting objects:  73% (55/75)\u001b[K\rremote: Counting objects:  74% (56/75)\u001b[K\rremote: Counting objects:  76% (57/75)\u001b[K\rremote: Counting objects:  77% (58/75)\u001b[K\rremote: Counting objects:  78% (59/75)\u001b[K\rremote: Counting objects:  80% (60/75)\u001b[K\rremote: Counting objects:  81% (61/75)\u001b[K\rremote: Counting objects:  82% (62/75)\u001b[K\rremote: Counting objects:  84% (63/75)\u001b[K\rremote: Counting objects:  85% (64/75)\u001b[K\rremote: Counting objects:  86% (65/75)\u001b[K\rremote: Counting objects:  88% (66/75)\u001b[K\rremote: Counting objects:  89% (67/75)\u001b[K\rremote: Counting objects:  90% (68/75)\u001b[K\rremote: Counting objects:  92% (69/75)\u001b[K\rremote: Counting objects:  93% (70/75)\u001b[K\rremote: Counting objects:  94% (71/75)\u001b[K\rremote: Counting objects:  96% (72/75)\u001b[K\rremote: Counting objects:  97% (73/75)\u001b[K\rremote: Counting objects:  98% (74/75)\u001b[K\rremote: Counting objects: 100% (75/75)\u001b[K\rremote: Counting objects: 100% (75/75), done.\u001b[K\n",
            "remote: Compressing objects: 100% (48/48), done.\u001b[K\n",
            "remote: Total 697 (delta 40), reused 48 (delta 23), pack-reused 622\n",
            "Receiving objects: 100% (697/697), 50.34 MiB | 11.43 MiB/s, done.\n",
            "Resolving deltas: 100% (77/77), done.\n"
          ],
          "name": "stdout"
        }
      ]
    },
    {
      "cell_type": "code",
      "metadata": {
        "id": "BAggmcLJjcbl",
        "colab_type": "code",
        "colab": {}
      },
      "source": [
        "!cp -r /content/Vehical_parts_detection/RenaultKwidImages /content/darknet\n",
        "!cp /content/Vehical_parts_detection/{train.txt,test.txt,obj.names,obj.data,yolo-voc.2.0.cfg,Makefile} /content/darknet\n",
        "# !cp /content/Vehical_parts_detection/test.txt /content/darknet\n",
        "# !cp /content/Vehical_parts_detection/obj.names /content/darknet\n",
        "# !cp /content/Vehical_parts_detection/obj.data /content/darknet\n",
        "# !cp /content/Vehical_parts_detection/yolo-voc.2.0.cfg /content/darknet\n",
        "# !cp /content/Vehical_parts_detection/Makefile /content/darknet"
      ],
      "execution_count": 0,
      "outputs": []
    },
    {
      "cell_type": "markdown",
      "metadata": {
        "id": "vYoYheCYG6VW",
        "colab_type": "text"
      },
      "source": [
        "Test train split in text files"
      ]
    },
    {
      "cell_type": "code",
      "metadata": {
        "id": "iYcIcr7XInBt",
        "colab_type": "code",
        "colab": {}
      },
      "source": [
        "!cat /content/Vehical_parts_detection/train.txt"
      ],
      "execution_count": 0,
      "outputs": []
    },
    {
      "cell_type": "code",
      "metadata": {
        "id": "JUQiSeTVG598",
        "colab_type": "code",
        "outputId": "f0778cb1-8f91-4c8e-a422-709fe1bbaf6f",
        "colab": {
          "base_uri": "https://localhost:8080/",
          "height": 401
        }
      },
      "source": [
        "!cat /content/Vehical_parts_detection/train_test.py"
      ],
      "execution_count": 0,
      "outputs": [
        {
          "output_type": "stream",
          "text": [
            "from imutils import paths\n",
            "import os\n",
            "current_dir = 'RenaultKwidImages'\n",
            "print(\"[INFO] loading images...\")\n",
            "imagePaths = list(paths.list_images(current_dir))\n",
            "file_train = open('train.txt', 'w')  \n",
            "file_test = open('test.txt', 'w')\n",
            "percentage_test = 10\n",
            "\n",
            "counter = 1  \n",
            "index_test = round(100 / percentage_test)  \n",
            "\n",
            "\n",
            "for image in imagePaths:\n",
            "\tpath = os.path.dirname(image)+'/'+os.path.basename(image)\n",
            "\tfile_train.write(path+'\\n')\n",
            "\tif counter == index_test:\n",
            "\t\tcounter = 1\n",
            "\t\tprint(path)\n",
            "\t\tfile_test.write(path + \"\\n\")\n",
            "\telse:\n",
            "\t\tfile_train.write(path + \"\\n\")\n",
            "\t\tcounter = counter + 1\n"
          ],
          "name": "stdout"
        }
      ]
    },
    {
      "cell_type": "code",
      "metadata": {
        "id": "z6bP06nDHbWg",
        "colab_type": "code",
        "colab": {}
      },
      "source": [
        "cat /content/Vehical_parts_detection/train.txt"
      ],
      "execution_count": 0,
      "outputs": []
    },
    {
      "cell_type": "code",
      "metadata": {
        "id": "zBvC_tLSU7yI",
        "colab_type": "code",
        "colab": {}
      },
      "source": [
        "import os\n",
        "os.chdir('/content/darknet')"
      ],
      "execution_count": 0,
      "outputs": []
    },
    {
      "cell_type": "code",
      "metadata": {
        "id": "UHDYDyA9VF-g",
        "colab_type": "code",
        "colab": {}
      },
      "source": [
        "!make"
      ],
      "execution_count": 0,
      "outputs": []
    },
    {
      "cell_type": "code",
      "metadata": {
        "id": "dbITP0a6VMVx",
        "colab_type": "code",
        "outputId": "8d9e8dec-4dbb-41da-a056-7043de3de97d",
        "colab": {
          "base_uri": "https://localhost:8080/",
          "height": 134
        }
      },
      "source": [
        "!ls"
      ],
      "execution_count": 0,
      "outputs": [
        {
          "output_type": "stream",
          "text": [
            "3rdparty      cmake\t\t      image_yolov2.sh\t     obj\n",
            "appveyor.yml  CMakeLists.txt\t      image_yolov3.sh\t     README.md\n",
            "backup\t      darknet\t\t      include\t\t     results\n",
            "build\t      DarknetConfig.cmake.in  json_mjpeg_streams.sh  scripts\n",
            "build.ps1     darknet.py\t      LICENSE\t\t     src\n",
            "build.sh      darknet_video.py\t      Makefile\t\t     video_v2.sh\n",
            "cfg\t      data\t\t      net_cam_v3.sh\t     video_yolov3.sh\n"
          ],
          "name": "stdout"
        }
      ]
    },
    {
      "cell_type": "code",
      "metadata": {
        "id": "Rxqp07UmVQxB",
        "colab_type": "code",
        "outputId": "fc11851e-7080-4cd3-af30-99fdea7e1eb2",
        "colab": {
          "base_uri": "https://localhost:8080/",
          "height": 33
        }
      },
      "source": [
        "! ./darknet"
      ],
      "execution_count": 9,
      "outputs": [
        {
          "output_type": "stream",
          "text": [
            "usage: ./darknet <function>\n"
          ],
          "name": "stdout"
        }
      ]
    },
    {
      "cell_type": "code",
      "metadata": {
        "id": "1ZVVxZgtjNJI",
        "colab_type": "code",
        "outputId": "7323ef65-2589-47ec-dbcd-ba35f21bdfd5",
        "colab": {
          "base_uri": "https://localhost:8080/",
          "height": 201
        }
      },
      "source": [
        "!wget https://pjreddie.com/media/files/darknet19_448.conv.23"
      ],
      "execution_count": 10,
      "outputs": [
        {
          "output_type": "stream",
          "text": [
            "--2019-11-13 12:07:21--  https://pjreddie.com/media/files/darknet19_448.conv.23\n",
            "Resolving pjreddie.com (pjreddie.com)... 128.208.4.108\n",
            "Connecting to pjreddie.com (pjreddie.com)|128.208.4.108|:443... connected.\n",
            "HTTP request sent, awaiting response... 200 OK\n",
            "Length: 79327120 (76M) [application/octet-stream]\n",
            "Saving to: ‘darknet19_448.conv.23’\n",
            "\n",
            "\rdarknet19_448.conv.   0%[                    ]       0  --.-KB/s               \rdarknet19_448.conv.   0%[                    ] 103.70K   411KB/s               \rdarknet19_448.conv.   0%[                    ] 439.70K   869KB/s               \rdarknet19_448.conv.   1%[                    ]   1.48M  1.95MB/s               \rdarknet19_448.conv.   6%[>                   ]   5.08M  5.03MB/s               \rdarknet19_448.conv.  14%[=>                  ]  10.96M  8.68MB/s               \rdarknet19_448.conv.  22%[===>                ]  16.90M  11.2MB/s               \rdarknet19_448.conv.  29%[====>               ]  22.29M  13.0MB/s               \rdarknet19_448.conv.  34%[=====>              ]  26.48M  13.5MB/s               \rdarknet19_448.conv.  42%[=======>            ]  31.99M  14.8MB/s               \rdarknet19_448.conv.  46%[========>           ]  35.46M  15.0MB/s               \rdarknet19_448.conv.  52%[=========>          ]  39.85M  15.5MB/s               \rdarknet19_448.conv.  59%[==========>         ]  44.99M  16.3MB/s               \rdarknet19_448.conv.  64%[===========>        ]  49.13M  16.3MB/s    eta 2s     \rdarknet19_448.conv.  71%[=============>      ]  54.24M  16.8MB/s    eta 2s     \rdarknet19_448.conv.  77%[==============>     ]  58.68M  17.1MB/s    eta 2s     \rdarknet19_448.conv.  84%[===============>    ]  63.94M  17.4MB/s    eta 2s     \rdarknet19_448.conv.  91%[=================>  ]  68.85M  20.3MB/s    eta 2s     \rdarknet19_448.conv.  96%[==================> ]  72.80M  21.4MB/s    eta 0s     \rdarknet19_448.conv. 100%[===================>]  75.65M  21.4MB/s    in 4.2s    \n",
            "\n",
            "2019-11-13 12:07:26 (17.9 MB/s) - ‘darknet19_448.conv.23’ saved [79327120/79327120]\n",
            "\n"
          ],
          "name": "stdout"
        }
      ]
    },
    {
      "cell_type": "code",
      "metadata": {
        "id": "RkGfWKmPwMwP",
        "colab_type": "code",
        "colab": {}
      },
      "source": [
        "os.chdir('/')"
      ],
      "execution_count": 0,
      "outputs": []
    },
    {
      "cell_type": "code",
      "metadata": {
        "id": "w5zR5Bt8vCoz",
        "colab_type": "code",
        "colab": {}
      },
      "source": [
        "os.chdir('/content/darknet')"
      ],
      "execution_count": 0,
      "outputs": []
    },
    {
      "cell_type": "code",
      "metadata": {
        "id": "DV0oWZZ_wrwL",
        "colab_type": "code",
        "colab": {}
      },
      "source": [
        "cat /content/Vehical_parts_detection/obj.data"
      ],
      "execution_count": 0,
      "outputs": []
    },
    {
      "cell_type": "code",
      "metadata": {
        "id": "oTZMdRqPwxyE",
        "colab_type": "code",
        "colab": {}
      },
      "source": [
        "cat /content/Vehical_parts_detection/yolo-voc.2.0.cfg"
      ],
      "execution_count": 0,
      "outputs": []
    },
    {
      "cell_type": "code",
      "metadata": {
        "id": "89x1RKPVjqTc",
        "colab_type": "code",
        "outputId": "158cbaed-aede-4c06-c690-1075baf7fe75",
        "colab": {
          "base_uri": "https://localhost:8080/",
          "height": 50
        }
      },
      "source": [
        "!./darknet detector train /content/darknet/obj.data /content/darknet/yolo-voc.2.0.cfg darknet19_448.conv.23"
      ],
      "execution_count": 14,
      "outputs": [
        {
          "output_type": "stream",
          "text": [
            "yolo-voc\n",
            " compute_capability = 370, cudnn_half = 0 \n"
          ],
          "name": "stdout"
        }
      ]
    },
    {
      "cell_type": "code",
      "metadata": {
        "id": "bTpl5z62dsnJ",
        "colab_type": "code",
        "colab": {}
      },
      "source": [
        "cat /content/darknet/Makefile"
      ],
      "execution_count": 0,
      "outputs": []
    }
  ]
}